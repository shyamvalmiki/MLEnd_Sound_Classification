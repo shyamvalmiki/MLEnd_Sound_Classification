{
  "nbformat": 4,
  "nbformat_minor": 0,
  "metadata": {
    "colab": {
      "provenance": []
    },
    "kernelspec": {
      "name": "python3",
      "display_name": "Python 3"
    },
    "language_info": {
      "name": "python"
    }
  },
  "cells": [
    {
      "cell_type": "markdown",
      "source": [
        "# 1 Author \n",
        "\n",
        "Student Name: Shyam babu Valmiki\n",
        "\n",
        "Student ID: 220522892\n"
      ],
      "metadata": {
        "id": "hTMoMY3BpKO1"
      }
    },
    {
      "cell_type": "markdown",
      "source": [
        "# **2 Problem Formulation**\n",
        "\n",
        "The metadata has the data which specifies the area in which it is recorded. Here we try to solve this problem. \n",
        "\n",
        "So given a audio segment with the metadata of area in which it is recorded we are predicting the area by training our model."
      ],
      "metadata": {
        "id": "oPuj_IzYpfn7"
      }
    },
    {
      "cell_type": "markdown",
      "source": [
        "# **3 Machine Learning Pipeline**\n",
        "\n",
        "A sound is disturbance caused in surrounding air or it can be considered as wave propulsion. \n",
        "\n",
        "It can be represented on a time series graph. The amplitude of the wave represents the strength of the sound at given time.\n",
        "\n",
        "For our problem to solve the abobe problem, we require features that helps us in training the model. \n",
        "\n",
        "We start by extracting the MFCC features of the audio segments.\n",
        "\n",
        "Then we define a neural network. then we fit in the model and measure the performance of the model.\n",
        "\n",
        "We shall furtheer try to improve the performance of the model as we continue.\n"
      ],
      "metadata": {
        "id": "sPhUQoB0qXm6"
      }
    },
    {
      "cell_type": "markdown",
      "source": [
        "# **4 Transformation Stage**\n",
        "\n",
        "For the given files we extract the MFCC features here. We are converting the audio signals to numerical entities that can be measured and used by us for solving the given machine learning problem.\n",
        "\n",
        "MFCC has a number of features we extract 40 features. each one of the attribute of the audio segment corresponds to a feature of the given audio segment. \n",
        "\n",
        "The inputs are the MFCC features of the audio segment and the output is the area in which the audio recorded.\n",
        "\n",
        "\n",
        "\n"
      ],
      "metadata": {
        "id": "4Onr4ahhsSeK"
      }
    },
    {
      "cell_type": "markdown",
      "source": [
        "# **5 Modelling**\n",
        "\n",
        "First let us train a SVM after evaluating the performance of the SVM.\n",
        "\n",
        "Later we build a neural network to classify the given audio files and evaluate its performance.\n",
        "\n",
        "In basic part we tried classification using different models, they does not seem to be perform well. So lets try using a neural network here.\n",
        "\n",
        "The audio segments are very complex and processing them might not be too easy and classifying them without enough samples is a challenging task.\n",
        "\n",
        "The number of samples here should have been more in order to get a best fit model for the classification."
      ],
      "metadata": {
        "id": "UYtQwkZmzXqU"
      }
    },
    {
      "cell_type": "markdown",
      "source": [
        "# **6 Methodology**\n",
        "We start by training the SVM model using MFCC features and measure the accuracy. Later we visualize it using the confusion matrix. \n",
        "\n",
        "To test other models, we begin with neural network to see the performance of it on the dataset. We measure the performance and then compare it with the SVM. We will further fit other models and try to evaluate their performance."
      ],
      "metadata": {
        "id": "BdrRDBV4O2kb"
      }
    },
    {
      "cell_type": "markdown",
      "source": [
        "# **7 Dataset**\n",
        "\n",
        "We will extract both MFCC and the other features that we extracted during the basic component part and try to use bothe the features.\n",
        "\n",
        "Let us mount to drive to access the audio files.\n",
        "\n"
      ],
      "metadata": {
        "id": "mOvykLGHUL_V"
      }
    },
    {
      "cell_type": "code",
      "execution_count": null,
      "metadata": {
        "colab": {
          "base_uri": "https://localhost:8080/"
        },
        "id": "9baRftTVkjla",
        "outputId": "8e24f17c-5f69-4510-afa6-3f9903f13293"
      },
      "outputs": [
        {
          "output_type": "stream",
          "name": "stdout",
          "text": [
            "Drive already mounted at /content/drive; to attempt to forcibly remount, call drive.mount(\"/content/drive\", force_remount=True).\n"
          ]
        }
      ],
      "source": [
        "from google.colab import drive\n",
        "\n",
        "import numpy as np\n",
        "import pandas as pd\n",
        "import matplotlib.pyplot as plt\n",
        "\n",
        "import os, sys, re, pickle, glob\n",
        "import urllib.request\n",
        "import zipfile\n",
        "\n",
        "import IPython.display as ipd\n",
        "from tqdm import tqdm\n",
        "import librosa\n",
        "\n",
        "drive.mount('/content/drive')"
      ]
    },
    {
      "cell_type": "code",
      "source": [
        "%matplotlib inline"
      ],
      "metadata": {
        "id": "Y2oGw5LZkq9Y"
      },
      "execution_count": null,
      "outputs": []
    },
    {
      "cell_type": "markdown",
      "source": [
        "Storing the audio segments and printing the number of samples."
      ],
      "metadata": {
        "id": "WStaerWcVJoc"
      }
    },
    {
      "cell_type": "code",
      "source": [
        "sample_path = '/content/drive/MyDrive/Data/MLEndLS/sample/*.wav'\n",
        "files = glob.glob(sample_path)\n",
        "len(files)"
      ],
      "metadata": {
        "colab": {
          "base_uri": "https://localhost:8080/"
        },
        "id": "KqOcmY4zrKqf",
        "outputId": "e0f9cd5d-fafd-475a-b72b-03a1a4d6b402"
      },
      "execution_count": null,
      "outputs": [
        {
          "output_type": "execute_result",
          "data": {
            "text/plain": [
              "2500"
            ]
          },
          "metadata": {},
          "execution_count": 5
        }
      ]
    },
    {
      "cell_type": "markdown",
      "source": [
        "Let us now read the metadata of the audio files."
      ],
      "metadata": {
        "id": "rtyQ-lFkVcrh"
      }
    },
    {
      "cell_type": "code",
      "source": [
        "MLENDLS_df = pd.read_csv('./MLEndLS (1).csv').set_index('file_id') \n",
        "MLENDLS_df"
      ],
      "metadata": {
        "colab": {
          "base_uri": "https://localhost:8080/",
          "height": 455
        },
        "id": "dpCkpOTd2pf7",
        "outputId": "f70c1634-855a-4287-fd15-12fa32f68ed1"
      },
      "execution_count": null,
      "outputs": [
        {
          "output_type": "execute_result",
          "data": {
            "text/plain": [
              "                area       spot   in_out Participant\n",
              "file_id                                             \n",
              "0001.wav     british     street  outdoor        S151\n",
              "0002.wav  kensington   dinosaur   indoor        S127\n",
              "0003.wav      campus     square  outdoor         S18\n",
              "0004.wav  kensington     hintze   indoor        S179\n",
              "0005.wav      campus     square  outdoor        S176\n",
              "...              ...        ...      ...         ...\n",
              "2496.wav     westend  trafalgar  outdoor        S151\n",
              "2497.wav      campus     square  outdoor          S6\n",
              "2498.wav     westend   national   indoor         S96\n",
              "2499.wav     british     room12   indoor         S73\n",
              "2500.wav     british     room12   indoor         S58\n",
              "\n",
              "[2500 rows x 4 columns]"
            ],
            "text/html": [
              "\n",
              "  <div id=\"df-59367577-488f-4a94-8b19-68974dc8dec4\">\n",
              "    <div class=\"colab-df-container\">\n",
              "      <div>\n",
              "<style scoped>\n",
              "    .dataframe tbody tr th:only-of-type {\n",
              "        vertical-align: middle;\n",
              "    }\n",
              "\n",
              "    .dataframe tbody tr th {\n",
              "        vertical-align: top;\n",
              "    }\n",
              "\n",
              "    .dataframe thead th {\n",
              "        text-align: right;\n",
              "    }\n",
              "</style>\n",
              "<table border=\"1\" class=\"dataframe\">\n",
              "  <thead>\n",
              "    <tr style=\"text-align: right;\">\n",
              "      <th></th>\n",
              "      <th>area</th>\n",
              "      <th>spot</th>\n",
              "      <th>in_out</th>\n",
              "      <th>Participant</th>\n",
              "    </tr>\n",
              "    <tr>\n",
              "      <th>file_id</th>\n",
              "      <th></th>\n",
              "      <th></th>\n",
              "      <th></th>\n",
              "      <th></th>\n",
              "    </tr>\n",
              "  </thead>\n",
              "  <tbody>\n",
              "    <tr>\n",
              "      <th>0001.wav</th>\n",
              "      <td>british</td>\n",
              "      <td>street</td>\n",
              "      <td>outdoor</td>\n",
              "      <td>S151</td>\n",
              "    </tr>\n",
              "    <tr>\n",
              "      <th>0002.wav</th>\n",
              "      <td>kensington</td>\n",
              "      <td>dinosaur</td>\n",
              "      <td>indoor</td>\n",
              "      <td>S127</td>\n",
              "    </tr>\n",
              "    <tr>\n",
              "      <th>0003.wav</th>\n",
              "      <td>campus</td>\n",
              "      <td>square</td>\n",
              "      <td>outdoor</td>\n",
              "      <td>S18</td>\n",
              "    </tr>\n",
              "    <tr>\n",
              "      <th>0004.wav</th>\n",
              "      <td>kensington</td>\n",
              "      <td>hintze</td>\n",
              "      <td>indoor</td>\n",
              "      <td>S179</td>\n",
              "    </tr>\n",
              "    <tr>\n",
              "      <th>0005.wav</th>\n",
              "      <td>campus</td>\n",
              "      <td>square</td>\n",
              "      <td>outdoor</td>\n",
              "      <td>S176</td>\n",
              "    </tr>\n",
              "    <tr>\n",
              "      <th>...</th>\n",
              "      <td>...</td>\n",
              "      <td>...</td>\n",
              "      <td>...</td>\n",
              "      <td>...</td>\n",
              "    </tr>\n",
              "    <tr>\n",
              "      <th>2496.wav</th>\n",
              "      <td>westend</td>\n",
              "      <td>trafalgar</td>\n",
              "      <td>outdoor</td>\n",
              "      <td>S151</td>\n",
              "    </tr>\n",
              "    <tr>\n",
              "      <th>2497.wav</th>\n",
              "      <td>campus</td>\n",
              "      <td>square</td>\n",
              "      <td>outdoor</td>\n",
              "      <td>S6</td>\n",
              "    </tr>\n",
              "    <tr>\n",
              "      <th>2498.wav</th>\n",
              "      <td>westend</td>\n",
              "      <td>national</td>\n",
              "      <td>indoor</td>\n",
              "      <td>S96</td>\n",
              "    </tr>\n",
              "    <tr>\n",
              "      <th>2499.wav</th>\n",
              "      <td>british</td>\n",
              "      <td>room12</td>\n",
              "      <td>indoor</td>\n",
              "      <td>S73</td>\n",
              "    </tr>\n",
              "    <tr>\n",
              "      <th>2500.wav</th>\n",
              "      <td>british</td>\n",
              "      <td>room12</td>\n",
              "      <td>indoor</td>\n",
              "      <td>S58</td>\n",
              "    </tr>\n",
              "  </tbody>\n",
              "</table>\n",
              "<p>2500 rows × 4 columns</p>\n",
              "</div>\n",
              "      <button class=\"colab-df-convert\" onclick=\"convertToInteractive('df-59367577-488f-4a94-8b19-68974dc8dec4')\"\n",
              "              title=\"Convert this dataframe to an interactive table.\"\n",
              "              style=\"display:none;\">\n",
              "        \n",
              "  <svg xmlns=\"http://www.w3.org/2000/svg\" height=\"24px\"viewBox=\"0 0 24 24\"\n",
              "       width=\"24px\">\n",
              "    <path d=\"M0 0h24v24H0V0z\" fill=\"none\"/>\n",
              "    <path d=\"M18.56 5.44l.94 2.06.94-2.06 2.06-.94-2.06-.94-.94-2.06-.94 2.06-2.06.94zm-11 1L8.5 8.5l.94-2.06 2.06-.94-2.06-.94L8.5 2.5l-.94 2.06-2.06.94zm10 10l.94 2.06.94-2.06 2.06-.94-2.06-.94-.94-2.06-.94 2.06-2.06.94z\"/><path d=\"M17.41 7.96l-1.37-1.37c-.4-.4-.92-.59-1.43-.59-.52 0-1.04.2-1.43.59L10.3 9.45l-7.72 7.72c-.78.78-.78 2.05 0 2.83L4 21.41c.39.39.9.59 1.41.59.51 0 1.02-.2 1.41-.59l7.78-7.78 2.81-2.81c.8-.78.8-2.07 0-2.86zM5.41 20L4 18.59l7.72-7.72 1.47 1.35L5.41 20z\"/>\n",
              "  </svg>\n",
              "      </button>\n",
              "      \n",
              "  <style>\n",
              "    .colab-df-container {\n",
              "      display:flex;\n",
              "      flex-wrap:wrap;\n",
              "      gap: 12px;\n",
              "    }\n",
              "\n",
              "    .colab-df-convert {\n",
              "      background-color: #E8F0FE;\n",
              "      border: none;\n",
              "      border-radius: 50%;\n",
              "      cursor: pointer;\n",
              "      display: none;\n",
              "      fill: #1967D2;\n",
              "      height: 32px;\n",
              "      padding: 0 0 0 0;\n",
              "      width: 32px;\n",
              "    }\n",
              "\n",
              "    .colab-df-convert:hover {\n",
              "      background-color: #E2EBFA;\n",
              "      box-shadow: 0px 1px 2px rgba(60, 64, 67, 0.3), 0px 1px 3px 1px rgba(60, 64, 67, 0.15);\n",
              "      fill: #174EA6;\n",
              "    }\n",
              "\n",
              "    [theme=dark] .colab-df-convert {\n",
              "      background-color: #3B4455;\n",
              "      fill: #D2E3FC;\n",
              "    }\n",
              "\n",
              "    [theme=dark] .colab-df-convert:hover {\n",
              "      background-color: #434B5C;\n",
              "      box-shadow: 0px 1px 3px 1px rgba(0, 0, 0, 0.15);\n",
              "      filter: drop-shadow(0px 1px 2px rgba(0, 0, 0, 0.3));\n",
              "      fill: #FFFFFF;\n",
              "    }\n",
              "  </style>\n",
              "\n",
              "      <script>\n",
              "        const buttonEl =\n",
              "          document.querySelector('#df-59367577-488f-4a94-8b19-68974dc8dec4 button.colab-df-convert');\n",
              "        buttonEl.style.display =\n",
              "          google.colab.kernel.accessAllowed ? 'block' : 'none';\n",
              "\n",
              "        async function convertToInteractive(key) {\n",
              "          const element = document.querySelector('#df-59367577-488f-4a94-8b19-68974dc8dec4');\n",
              "          const dataTable =\n",
              "            await google.colab.kernel.invokeFunction('convertToInteractive',\n",
              "                                                     [key], {});\n",
              "          if (!dataTable) return;\n",
              "\n",
              "          const docLinkHtml = 'Like what you see? Visit the ' +\n",
              "            '<a target=\"_blank\" href=https://colab.research.google.com/notebooks/data_table.ipynb>data table notebook</a>'\n",
              "            + ' to learn more about interactive tables.';\n",
              "          element.innerHTML = '';\n",
              "          dataTable['output_type'] = 'display_data';\n",
              "          await google.colab.output.renderOutput(dataTable, element);\n",
              "          const docLink = document.createElement('div');\n",
              "          docLink.innerHTML = docLinkHtml;\n",
              "          element.appendChild(docLink);\n",
              "        }\n",
              "      </script>\n",
              "    </div>\n",
              "  </div>\n",
              "  "
            ]
          },
          "metadata": {},
          "execution_count": 6
        }
      ]
    },
    {
      "cell_type": "markdown",
      "source": [
        "Functions to get the MFCC and other features extracted in the basic componenets."
      ],
      "metadata": {
        "id": "KNVjXFWIVlDM"
      }
    },
    {
      "cell_type": "code",
      "source": [
        "def getPitch(x,fs,winLen=0.02):\n",
        "  #winLen = 0.02 \n",
        "  p = winLen*fs\n",
        "  frame_length = int(2**int(p-1).bit_length())\n",
        "  hop_length = frame_length//2\n",
        "  f0, voiced_flag, voiced_probs = librosa.pyin(y=x, fmin=80, fmax=450, sr=fs,\n",
        "                                                 frame_length=frame_length,hop_length=hop_length)\n",
        "  return f0,voiced_flag"
      ],
      "metadata": {
        "id": "0NTqy1hjOWjq"
      },
      "execution_count": null,
      "outputs": []
    },
    {
      "cell_type": "code",
      "source": [
        "def getXy(files,labels_file, scale_audio=False, onlySingleDigit=False):\n",
        "  X,y =[],[]\n",
        "  mfcc_features = []\n",
        "  for file in tqdm(files):\n",
        "    try:\n",
        "      fileID = file.split('/')[-1]\n",
        "      file_name = file.split('/')[-1]\n",
        "      yi = labels_file.loc[fileID]['area']\n",
        "\n",
        "      fs = None # if None, fs would be 22050\n",
        "      x, fs = librosa.load(file,sr=fs)\n",
        "      if scale_audio: x = x/np.max(np.abs(x))\n",
        "      f0, voiced_flag = getPitch(x,fs,winLen=0.02)\n",
        "      \n",
        "      power = np.sum(x**2)/len(x)\n",
        "      pitch_mean = np.nanmean(f0) if np.mean(np.isnan(f0))<1 else 0\n",
        "      pitch_std  = np.nanstd(f0) if np.mean(np.isnan(f0))<1 else 0\n",
        "      voiced_fr = np.mean(voiced_flag)\n",
        "\n",
        "      xi = [power,pitch_mean,pitch_std,voiced_fr]\n",
        "      mfcci = librosa.feature.mfcc(x,fs,n_mfcc=40)\n",
        "      mfcci = np.mean(mfcci.T,axis = 0)\n",
        "    \n",
        "\n",
        "      X.append(xi)\n",
        "      y.append(yi)\n",
        "      mfcc_features.append(mfcci)\n",
        "\n",
        "    except:\n",
        "      continue\n",
        "\n",
        "  return np.array(X),np.array(y),np.array(mfcc_features)"
      ],
      "metadata": {
        "id": "aOFkGgQ03AJi"
      },
      "execution_count": null,
      "outputs": []
    },
    {
      "cell_type": "markdown",
      "source": [
        "Call the function to extract the features and store them.\n",
        "\n",
        "X contains the features Power, Pitch - mean, Pitch - standard deviation, Fraction of voiced region\n",
        "\n",
        "y conatins the labels.\n",
        "\n",
        "z contains the MFCC features."
      ],
      "metadata": {
        "id": "9BX93oM5VuHn"
      }
    },
    {
      "cell_type": "code",
      "source": [
        "X,y,z = getXy(files, labels_file=MLENDLS_df, scale_audio=True, onlySingleDigit=True)"
      ],
      "metadata": {
        "colab": {
          "base_uri": "https://localhost:8080/"
        },
        "id": "bOrN8i9e3nKm",
        "outputId": "8b2f00c6-9605-4d6f-f0fa-4e8054d837ca"
      },
      "execution_count": null,
      "outputs": [
        {
          "output_type": "stream",
          "name": "stderr",
          "text": [
            " 28%|██▊       | 705/2500 [19:08<50:03,  1.67s/it]<ipython-input-8-798cdc811a56>:12: RuntimeWarning: invalid value encountered in true_divide\n",
            "  if scale_audio: x = x/np.max(np.abs(x))\n",
            "100%|█████████▉| 2499/2500 [1:08:10<00:01,  1.55s/it]/usr/local/lib/python3.8/dist-packages/librosa/core/audio.py:165: UserWarning: PySoundFile failed. Trying audioread instead.\n",
            "  warnings.warn(\"PySoundFile failed. Trying audioread instead.\")\n",
            "100%|██████████| 2500/2500 [1:08:10<00:00,  1.64s/it]\n"
          ]
        }
      ]
    },
    {
      "cell_type": "markdown",
      "source": [
        "There are 40 aspects of audio segment that are stored as MFCC features. Lets have a look at them."
      ],
      "metadata": {
        "id": "1umE6sUJWatO"
      }
    },
    {
      "cell_type": "code",
      "source": [
        "z[:2]"
      ],
      "metadata": {
        "colab": {
          "base_uri": "https://localhost:8080/"
        },
        "id": "etxXO0UTSKoN",
        "outputId": "9831481d-5e0e-46c1-a7b9-e0d120dc4a45"
      },
      "execution_count": null,
      "outputs": [
        {
          "output_type": "execute_result",
          "data": {
            "text/plain": [
              "array([[-1.04798477e+02,  1.20910492e+02, -3.91782074e+01,\n",
              "         3.89396553e+01, -3.80679054e+01,  2.27108822e+01,\n",
              "        -3.10048027e+01,  4.69994640e+00, -2.44324417e+01,\n",
              "        -5.18842411e+00, -1.54441881e+01, -5.92727327e+00,\n",
              "        -1.17950745e+01, -1.13213949e+01, -1.13582239e+01,\n",
              "        -1.42321386e+01, -7.53225756e+00, -1.41910353e+01,\n",
              "        -3.96773958e+00, -1.48007555e+01, -4.89104033e+00,\n",
              "        -1.17112722e+01, -4.37213564e+00, -9.91007042e+00,\n",
              "        -3.20195794e+00, -5.31495619e+00, -3.98656726e+00,\n",
              "        -3.27520418e+00, -4.20520353e+00, -2.18990159e+00,\n",
              "        -3.85206151e+00, -1.29421067e+00, -3.48816657e+00,\n",
              "        -8.46816599e-01, -3.31417203e+00, -3.21415365e-01,\n",
              "        -2.64515328e+00,  8.53252709e-02, -2.15219545e+00,\n",
              "        -4.63793308e-01],\n",
              "       [-1.96654373e+02,  1.83684433e+02, -3.93360672e+01,\n",
              "         3.25799103e+01, -8.92820263e+00,  1.31697493e+01,\n",
              "         2.08682752e+00,  1.48538589e+00,  8.49060154e+00,\n",
              "        -9.12135124e+00,  8.75868320e+00, -4.74861431e+00,\n",
              "         1.52736306e+00, -1.65982389e+00, -3.07616830e+00,\n",
              "         1.60081422e+00, -6.19127369e+00,  2.01535225e+00,\n",
              "        -6.24543858e+00, -1.96913445e+00, -1.75356293e+00,\n",
              "        -3.07666159e+00,  1.79216814e+00, -1.26869535e+00,\n",
              "         2.11298680e+00, -2.42942595e+00,  1.79472768e+00,\n",
              "         5.20049155e-01, -9.26650390e-02,  2.06329846e+00,\n",
              "        -1.84554899e+00,  2.82913160e+00, -1.72670817e+00,\n",
              "         4.81662154e-01,  7.81296015e-01, -1.23796105e+00,\n",
              "         1.50472295e+00, -2.01616430e+00,  1.32310271e-01,\n",
              "        -1.89334297e+00]], dtype=float32)"
            ]
          },
          "metadata": {},
          "execution_count": 97
        }
      ]
    },
    {
      "cell_type": "markdown",
      "source": [
        "Operations required to train the model."
      ],
      "metadata": {
        "id": "Jpl6GY5oWwAH"
      }
    },
    {
      "cell_type": "code",
      "source": [
        "def concat_features_labels(z,y):\n",
        "  return z,y"
      ],
      "metadata": {
        "id": "EeqQZ86x_yXY"
      },
      "execution_count": null,
      "outputs": []
    },
    {
      "cell_type": "code",
      "source": [
        "extracted_feature = concat_features_labels(z,y)"
      ],
      "metadata": {
        "id": "aYfzpUD3ABd3"
      },
      "execution_count": null,
      "outputs": []
    },
    {
      "cell_type": "code",
      "source": [
        "y1 = y"
      ],
      "metadata": {
        "id": "2trTAs4g0wn_"
      },
      "execution_count": null,
      "outputs": []
    },
    {
      "cell_type": "code",
      "source": [
        "y.shape"
      ],
      "metadata": {
        "colab": {
          "base_uri": "https://localhost:8080/"
        },
        "id": "xm_n2tZhXJGC",
        "outputId": "986021cc-80e4-4022-b4ff-a01125e64d83"
      },
      "execution_count": null,
      "outputs": [
        {
          "output_type": "execute_result",
          "data": {
            "text/plain": [
              "(2497, 6)"
            ]
          },
          "metadata": {},
          "execution_count": 102
        }
      ]
    },
    {
      "cell_type": "markdown",
      "source": [
        "y1 = y"
      ],
      "metadata": {
        "id": "F4EKzBYH0tcS"
      }
    },
    {
      "cell_type": "code",
      "source": [
        "#y = np.array(pd.get_dummies(y))"
      ],
      "metadata": {
        "id": "-HjFIqwZ98gZ"
      },
      "execution_count": null,
      "outputs": []
    },
    {
      "cell_type": "code",
      "source": [
        "y.shape"
      ],
      "metadata": {
        "colab": {
          "base_uri": "https://localhost:8080/"
        },
        "id": "XftFrfIeAgNQ",
        "outputId": "96554328-2ef3-4260-8a49-22303a87688d"
      },
      "execution_count": null,
      "outputs": [
        {
          "output_type": "execute_result",
          "data": {
            "text/plain": [
              "(2497, 6)"
            ]
          },
          "metadata": {},
          "execution_count": 15
        }
      ]
    },
    {
      "cell_type": "code",
      "source": [
        "z.shape"
      ],
      "metadata": {
        "colab": {
          "base_uri": "https://localhost:8080/"
        },
        "id": "A55brU4dAgQw",
        "outputId": "2866fbf2-1819-4269-f365-e3531315df1b"
      },
      "execution_count": null,
      "outputs": [
        {
          "output_type": "execute_result",
          "data": {
            "text/plain": [
              "(2497, 40)"
            ]
          },
          "metadata": {},
          "execution_count": 16
        }
      ]
    },
    {
      "cell_type": "code",
      "source": [
        "from sklearn.model_selection import train_test_split\n",
        "\n",
        "X_train, X_val, y_train, y_val = train_test_split(z,y,test_size=0.3)"
      ],
      "metadata": {
        "id": "frescYYhCmYX"
      },
      "execution_count": null,
      "outputs": []
    },
    {
      "cell_type": "code",
      "source": [
        "X_train"
      ],
      "metadata": {
        "colab": {
          "base_uri": "https://localhost:8080/"
        },
        "id": "R47lXucUCmbr",
        "outputId": "eff06c7b-d62c-432e-98df-0c2965230728"
      },
      "execution_count": null,
      "outputs": [
        {
          "output_type": "execute_result",
          "data": {
            "text/plain": [
              "array([[-1.5444293e+02,  1.9918173e+02, -1.6468859e+01, ...,\n",
              "        -1.5372493e+00,  2.5858682e-01, -2.8142142e-01],\n",
              "       [-2.6970499e+02,  1.5267389e+02,  8.3842545e+00, ...,\n",
              "         6.0871416e-01,  3.7564060e-01,  5.1838744e-01],\n",
              "       [-2.6359421e+02,  1.9777010e+02,  8.0810413e+00, ...,\n",
              "         7.5542957e-01, -1.2089976e+00, -1.8239326e+00],\n",
              "       ...,\n",
              "       [-2.7590146e+02,  1.5696593e+02, -1.1972908e+00, ...,\n",
              "         5.8791530e-01,  2.2867410e-02,  2.1894326e+00],\n",
              "       [-1.8613283e+02,  2.0393959e+02, -4.0805389e+01, ...,\n",
              "        -1.7885153e+00, -3.8372049e-01, -1.3870696e+00],\n",
              "       [-2.2479449e+02,  1.8025966e+02, -2.7300211e+01, ...,\n",
              "         8.9853054e-01, -1.0637032e+00,  1.0463054e+00]], dtype=float32)"
            ]
          },
          "metadata": {},
          "execution_count": 115
        }
      ]
    },
    {
      "cell_type": "code",
      "source": [
        "y_train"
      ],
      "metadata": {
        "colab": {
          "base_uri": "https://localhost:8080/"
        },
        "id": "lTa527F7Cm7y",
        "outputId": "79eafb91-d252-4f2a-d31a-1f29ee91ab60"
      },
      "execution_count": null,
      "outputs": [
        {
          "output_type": "execute_result",
          "data": {
            "text/plain": [
              "array([[0, 0, 0, 0, 1, 0],\n",
              "       [0, 0, 1, 0, 0, 0],\n",
              "       [0, 1, 0, 0, 0, 0],\n",
              "       ...,\n",
              "       [1, 0, 0, 0, 0, 0],\n",
              "       [0, 0, 0, 0, 0, 1],\n",
              "       [0, 1, 0, 0, 0, 0]], dtype=uint8)"
            ]
          },
          "metadata": {},
          "execution_count": 116
        }
      ]
    },
    {
      "cell_type": "markdown",
      "source": [
        "# **8 Results**\n"
      ],
      "metadata": {
        "id": "R8mb3YZdXhlK"
      }
    },
    {
      "cell_type": "markdown",
      "source": [
        "#classification using neural network"
      ],
      "metadata": {
        "id": "OtRlrwEFENyx"
      }
    },
    {
      "cell_type": "code",
      "source": [
        "import tensorflow as tf"
      ],
      "metadata": {
        "id": "V2hUFX8oCm97"
      },
      "execution_count": null,
      "outputs": []
    },
    {
      "cell_type": "code",
      "source": [
        "print(tf.__version__)"
      ],
      "metadata": {
        "colab": {
          "base_uri": "https://localhost:8080/"
        },
        "id": "pEwuW3hFCnBT",
        "outputId": "910d8f07-615a-49db-ab62-f920303efa8f"
      },
      "execution_count": null,
      "outputs": [
        {
          "output_type": "stream",
          "name": "stdout",
          "text": [
            "2.9.2\n"
          ]
        }
      ]
    },
    {
      "cell_type": "code",
      "source": [
        "from tensorflow.keras.models import Sequential\n",
        "from tensorflow.keras.layers import Dense,Dropout,Activation,Flatten\n",
        "from tensorflow.keras.optimizers import Adam\n",
        "from sklearn import metrics"
      ],
      "metadata": {
        "id": "DZe0XqS7EpdE"
      },
      "execution_count": null,
      "outputs": []
    },
    {
      "cell_type": "code",
      "source": [
        "num_labels = y.shape[1]"
      ],
      "metadata": {
        "id": "0f1-dNnnEpfY"
      },
      "execution_count": null,
      "outputs": []
    },
    {
      "cell_type": "code",
      "source": [
        "model = Sequential()\n",
        "\n",
        "model.add(Dense(100,input_shape=(40,)))\n",
        "model.add(Activation('relu'))\n",
        "model.add(Dropout(0.5))\n",
        "\n",
        "model.add(Dense(200))\n",
        "model.add(Activation('relu'))\n",
        "model.add(Dropout(0.5))\n",
        "\n",
        "model.add(Dense(100))\n",
        "model.add(Activation('relu'))\n",
        "model.add(Dropout(0.5))\n",
        "\n",
        "model.add(Dense(num_labels))\n",
        "model.add(Activation('softmax'))\n"
      ],
      "metadata": {
        "id": "Us0M1eNuEpme"
      },
      "execution_count": null,
      "outputs": []
    },
    {
      "cell_type": "markdown",
      "source": [
        "The neural network description is as follows."
      ],
      "metadata": {
        "id": "6roCm9D8aFLD"
      }
    },
    {
      "cell_type": "code",
      "source": [
        "model.summary()"
      ],
      "metadata": {
        "colab": {
          "base_uri": "https://localhost:8080/"
        },
        "id": "E1x7VZV-EpqW",
        "outputId": "2a8d928f-78fe-4134-d197-c8909a876d1f"
      },
      "execution_count": null,
      "outputs": [
        {
          "output_type": "stream",
          "name": "stdout",
          "text": [
            "Model: \"sequential_6\"\n",
            "_________________________________________________________________\n",
            " Layer (type)                Output Shape              Param #   \n",
            "=================================================================\n",
            " dense_24 (Dense)            (None, 100)               4100      \n",
            "                                                                 \n",
            " activation_24 (Activation)  (None, 100)               0         \n",
            "                                                                 \n",
            " dropout_18 (Dropout)        (None, 100)               0         \n",
            "                                                                 \n",
            " dense_25 (Dense)            (None, 200)               20200     \n",
            "                                                                 \n",
            " activation_25 (Activation)  (None, 200)               0         \n",
            "                                                                 \n",
            " dropout_19 (Dropout)        (None, 200)               0         \n",
            "                                                                 \n",
            " dense_26 (Dense)            (None, 100)               20100     \n",
            "                                                                 \n",
            " activation_26 (Activation)  (None, 100)               0         \n",
            "                                                                 \n",
            " dropout_20 (Dropout)        (None, 100)               0         \n",
            "                                                                 \n",
            " dense_27 (Dense)            (None, 6)                 606       \n",
            "                                                                 \n",
            " activation_27 (Activation)  (None, 6)                 0         \n",
            "                                                                 \n",
            "=================================================================\n",
            "Total params: 45,006\n",
            "Trainable params: 45,006\n",
            "Non-trainable params: 0\n",
            "_________________________________________________________________\n"
          ]
        }
      ]
    },
    {
      "cell_type": "code",
      "source": [
        "model.compile(loss='categorical_crossentropy',metrics=['accuracy'],optimizer='adam')"
      ],
      "metadata": {
        "id": "CH-hAFgHEptA"
      },
      "execution_count": null,
      "outputs": []
    },
    {
      "cell_type": "code",
      "source": [
        "from tensorflow.keras.callbacks import ModelCheckpoint\n",
        "from datetime import datetime\n",
        "\n",
        "num_epochs = 100\n",
        "num_batch_size = 32\n",
        "\n",
        "checkpointer = ModelCheckpoint(filepath='saved_models/audio_classification.hdf5',verbose=1, save_best_only = True)\n",
        "\n",
        "start = datetime.now()\n",
        "\n",
        "model.fit(X_train, y_train, batch_size = num_batch_size, epochs = num_epochs, validation_data=(X_val,y_val),callbacks=[checkpointer])\n",
        "\n",
        "duration = datetime.now() - start"
      ],
      "metadata": {
        "colab": {
          "base_uri": "https://localhost:8080/"
        },
        "id": "AoLJztMuEpwW",
        "outputId": "8ebbea26-b270-4561-8ee2-0fb5ebbed8b0"
      },
      "execution_count": null,
      "outputs": [
        {
          "output_type": "stream",
          "name": "stdout",
          "text": [
            "Epoch 1/100\n",
            "52/55 [===========================>..] - ETA: 0s - loss: 1.6036 - accuracy: 0.3365\n",
            "Epoch 1: val_loss improved from inf to 1.60851, saving model to saved_models/audio_classification.hdf5\n",
            "55/55 [==============================] - 0s 7ms/step - loss: 1.5991 - accuracy: 0.3412 - val_loss: 1.6085 - val_accuracy: 0.3013\n",
            "Epoch 2/100\n",
            "52/55 [===========================>..] - ETA: 0s - loss: 1.5945 - accuracy: 0.3425\n",
            "Epoch 2: val_loss did not improve from 1.60851\n",
            "55/55 [==============================] - 0s 6ms/step - loss: 1.5946 - accuracy: 0.3412 - val_loss: 1.6174 - val_accuracy: 0.3013\n",
            "Epoch 3/100\n",
            "49/55 [=========================>....] - ETA: 0s - loss: 1.5957 - accuracy: 0.3431\n",
            "Epoch 3: val_loss did not improve from 1.60851\n",
            "55/55 [==============================] - 0s 6ms/step - loss: 1.5941 - accuracy: 0.3412 - val_loss: 1.6104 - val_accuracy: 0.3013\n",
            "Epoch 4/100\n",
            "49/55 [=========================>....] - ETA: 0s - loss: 1.6014 - accuracy: 0.3348\n",
            "Epoch 4: val_loss did not improve from 1.60851\n",
            "55/55 [==============================] - 0s 6ms/step - loss: 1.5969 - accuracy: 0.3406 - val_loss: 1.6120 - val_accuracy: 0.3013\n",
            "Epoch 5/100\n",
            "55/55 [==============================] - ETA: 0s - loss: 1.5962 - accuracy: 0.3412\n",
            "Epoch 5: val_loss did not improve from 1.60851\n",
            "55/55 [==============================] - 1s 9ms/step - loss: 1.5962 - accuracy: 0.3412 - val_loss: 1.6096 - val_accuracy: 0.3013\n",
            "Epoch 6/100\n",
            "50/55 [==========================>...] - ETA: 0s - loss: 1.6019 - accuracy: 0.3406\n",
            "Epoch 6: val_loss did not improve from 1.60851\n",
            "55/55 [==============================] - 1s 12ms/step - loss: 1.5936 - accuracy: 0.3412 - val_loss: 1.6144 - val_accuracy: 0.3013\n",
            "Epoch 7/100\n",
            "52/55 [===========================>..] - ETA: 0s - loss: 1.5997 - accuracy: 0.3395\n",
            "Epoch 7: val_loss did not improve from 1.60851\n",
            "55/55 [==============================] - 0s 6ms/step - loss: 1.5963 - accuracy: 0.3412 - val_loss: 1.6089 - val_accuracy: 0.3013\n",
            "Epoch 8/100\n",
            "44/55 [=======================>......] - ETA: 0s - loss: 1.5843 - accuracy: 0.3430\n",
            "Epoch 8: val_loss did not improve from 1.60851\n",
            "55/55 [==============================] - 0s 6ms/step - loss: 1.5983 - accuracy: 0.3417 - val_loss: 1.6100 - val_accuracy: 0.3013\n",
            "Epoch 9/100\n",
            "51/55 [==========================>...] - ETA: 0s - loss: 1.5951 - accuracy: 0.3413\n",
            "Epoch 9: val_loss improved from 1.60851 to 1.60825, saving model to saved_models/audio_classification.hdf5\n",
            "55/55 [==============================] - 0s 6ms/step - loss: 1.5954 - accuracy: 0.3417 - val_loss: 1.6083 - val_accuracy: 0.3040\n",
            "Epoch 10/100\n",
            "47/55 [========================>.....] - ETA: 0s - loss: 1.5958 - accuracy: 0.3384\n",
            "Epoch 10: val_loss improved from 1.60825 to 1.60675, saving model to saved_models/audio_classification.hdf5\n",
            "55/55 [==============================] - 0s 7ms/step - loss: 1.5982 - accuracy: 0.3400 - val_loss: 1.6067 - val_accuracy: 0.3040\n",
            "Epoch 11/100\n",
            "52/55 [===========================>..] - ETA: 0s - loss: 1.6020 - accuracy: 0.3413\n",
            "Epoch 11: val_loss did not improve from 1.60675\n",
            "55/55 [==============================] - 0s 6ms/step - loss: 1.6030 - accuracy: 0.3406 - val_loss: 1.6086 - val_accuracy: 0.3013\n",
            "Epoch 12/100\n",
            "48/55 [=========================>....] - ETA: 0s - loss: 1.5902 - accuracy: 0.3405\n",
            "Epoch 12: val_loss did not improve from 1.60675\n",
            "55/55 [==============================] - 0s 6ms/step - loss: 1.5963 - accuracy: 0.3406 - val_loss: 1.6093 - val_accuracy: 0.3013\n",
            "Epoch 13/100\n",
            "48/55 [=========================>....] - ETA: 0s - loss: 1.5893 - accuracy: 0.3503\n",
            "Epoch 13: val_loss did not improve from 1.60675\n",
            "55/55 [==============================] - 0s 6ms/step - loss: 1.5962 - accuracy: 0.3423 - val_loss: 1.6078 - val_accuracy: 0.3013\n",
            "Epoch 14/100\n",
            "53/55 [===========================>..] - ETA: 0s - loss: 1.6061 - accuracy: 0.3432\n",
            "Epoch 14: val_loss did not improve from 1.60675\n",
            "55/55 [==============================] - 0s 6ms/step - loss: 1.6079 - accuracy: 0.3406 - val_loss: 1.6090 - val_accuracy: 0.3013\n",
            "Epoch 15/100\n",
            "47/55 [========================>.....] - ETA: 0s - loss: 1.5976 - accuracy: 0.3384\n",
            "Epoch 15: val_loss did not improve from 1.60675\n",
            "55/55 [==============================] - 0s 5ms/step - loss: 1.6005 - accuracy: 0.3406 - val_loss: 1.6079 - val_accuracy: 0.3013\n",
            "Epoch 16/100\n",
            "42/55 [=====================>........] - ETA: 0s - loss: 1.5837 - accuracy: 0.3430\n",
            "Epoch 16: val_loss did not improve from 1.60675\n",
            "55/55 [==============================] - 0s 5ms/step - loss: 1.5943 - accuracy: 0.3412 - val_loss: 1.6071 - val_accuracy: 0.3013\n",
            "Epoch 17/100\n",
            "50/55 [==========================>...] - ETA: 0s - loss: 1.6015 - accuracy: 0.3444\n",
            "Epoch 17: val_loss did not improve from 1.60675\n",
            "55/55 [==============================] - 0s 6ms/step - loss: 1.6082 - accuracy: 0.3412 - val_loss: 1.6132 - val_accuracy: 0.3013\n",
            "Epoch 18/100\n",
            "44/55 [=======================>......] - ETA: 0s - loss: 1.5997 - accuracy: 0.3438\n",
            "Epoch 18: val_loss did not improve from 1.60675\n",
            "55/55 [==============================] - 0s 5ms/step - loss: 1.5978 - accuracy: 0.3412 - val_loss: 1.6122 - val_accuracy: 0.3013\n",
            "Epoch 19/100\n",
            "43/55 [======================>.......] - ETA: 0s - loss: 1.6053 - accuracy: 0.3423\n",
            "Epoch 19: val_loss did not improve from 1.60675\n",
            "55/55 [==============================] - 0s 5ms/step - loss: 1.6048 - accuracy: 0.3412 - val_loss: 1.6113 - val_accuracy: 0.3013\n",
            "Epoch 20/100\n",
            "46/55 [========================>.....] - ETA: 0s - loss: 1.6051 - accuracy: 0.3376\n",
            "Epoch 20: val_loss did not improve from 1.60675\n",
            "55/55 [==============================] - 0s 6ms/step - loss: 1.6046 - accuracy: 0.3406 - val_loss: 1.6100 - val_accuracy: 0.3013\n",
            "Epoch 21/100\n",
            "42/55 [=====================>........] - ETA: 0s - loss: 1.5928 - accuracy: 0.3445\n",
            "Epoch 21: val_loss did not improve from 1.60675\n",
            "55/55 [==============================] - 0s 5ms/step - loss: 1.5970 - accuracy: 0.3412 - val_loss: 1.6109 - val_accuracy: 0.3013\n",
            "Epoch 22/100\n",
            "54/55 [============================>.] - ETA: 0s - loss: 1.5960 - accuracy: 0.3409\n",
            "Epoch 22: val_loss did not improve from 1.60675\n",
            "55/55 [==============================] - 0s 5ms/step - loss: 1.5968 - accuracy: 0.3412 - val_loss: 1.6110 - val_accuracy: 0.3013\n",
            "Epoch 23/100\n",
            "55/55 [==============================] - ETA: 0s - loss: 1.5984 - accuracy: 0.3412\n",
            "Epoch 23: val_loss did not improve from 1.60675\n",
            "55/55 [==============================] - 0s 5ms/step - loss: 1.5984 - accuracy: 0.3412 - val_loss: 1.6120 - val_accuracy: 0.3013\n",
            "Epoch 24/100\n",
            "50/55 [==========================>...] - ETA: 0s - loss: 1.5881 - accuracy: 0.3431\n",
            "Epoch 24: val_loss did not improve from 1.60675\n",
            "55/55 [==============================] - 0s 6ms/step - loss: 1.5947 - accuracy: 0.3412 - val_loss: 1.6118 - val_accuracy: 0.3013\n",
            "Epoch 25/100\n",
            "54/55 [============================>.] - ETA: 0s - loss: 1.5954 - accuracy: 0.3403\n",
            "Epoch 25: val_loss did not improve from 1.60675\n",
            "55/55 [==============================] - 0s 5ms/step - loss: 1.5973 - accuracy: 0.3412 - val_loss: 1.6139 - val_accuracy: 0.3013\n",
            "Epoch 26/100\n",
            "50/55 [==========================>...] - ETA: 0s - loss: 1.5990 - accuracy: 0.3406\n",
            "Epoch 26: val_loss did not improve from 1.60675\n",
            "55/55 [==============================] - 0s 6ms/step - loss: 1.5987 - accuracy: 0.3417 - val_loss: 1.6152 - val_accuracy: 0.3027\n",
            "Epoch 27/100\n",
            "44/55 [=======================>......] - ETA: 0s - loss: 1.5942 - accuracy: 0.3501\n",
            "Epoch 27: val_loss did not improve from 1.60675\n",
            "55/55 [==============================] - 0s 6ms/step - loss: 1.5958 - accuracy: 0.3406 - val_loss: 1.6181 - val_accuracy: 0.3027\n",
            "Epoch 28/100\n",
            "55/55 [==============================] - ETA: 0s - loss: 1.5966 - accuracy: 0.3412\n",
            "Epoch 28: val_loss did not improve from 1.60675\n",
            "55/55 [==============================] - 0s 6ms/step - loss: 1.5966 - accuracy: 0.3412 - val_loss: 1.6302 - val_accuracy: 0.3040\n",
            "Epoch 29/100\n",
            "43/55 [======================>.......] - ETA: 0s - loss: 1.5946 - accuracy: 0.3372\n",
            "Epoch 29: val_loss did not improve from 1.60675\n",
            "55/55 [==============================] - 0s 5ms/step - loss: 1.5932 - accuracy: 0.3406 - val_loss: 1.6347 - val_accuracy: 0.3013\n",
            "Epoch 30/100\n",
            "51/55 [==========================>...] - ETA: 0s - loss: 1.5911 - accuracy: 0.3407\n",
            "Epoch 30: val_loss did not improve from 1.60675\n",
            "55/55 [==============================] - 0s 6ms/step - loss: 1.5914 - accuracy: 0.3417 - val_loss: 1.6194 - val_accuracy: 0.3013\n",
            "Epoch 31/100\n",
            "51/55 [==========================>...] - ETA: 0s - loss: 1.5941 - accuracy: 0.3438\n",
            "Epoch 31: val_loss did not improve from 1.60675\n",
            "55/55 [==============================] - 0s 6ms/step - loss: 1.5939 - accuracy: 0.3412 - val_loss: 1.6224 - val_accuracy: 0.3013\n",
            "Epoch 32/100\n",
            "54/55 [============================>.] - ETA: 0s - loss: 1.5924 - accuracy: 0.3420\n",
            "Epoch 32: val_loss did not improve from 1.60675\n",
            "55/55 [==============================] - 0s 5ms/step - loss: 1.5955 - accuracy: 0.3412 - val_loss: 1.6405 - val_accuracy: 0.3013\n",
            "Epoch 33/100\n",
            "53/55 [===========================>..] - ETA: 0s - loss: 1.6074 - accuracy: 0.3390\n",
            "Epoch 33: val_loss did not improve from 1.60675\n",
            "55/55 [==============================] - 0s 5ms/step - loss: 1.6055 - accuracy: 0.3412 - val_loss: 1.6126 - val_accuracy: 0.3013\n",
            "Epoch 34/100\n",
            "42/55 [=====================>........] - ETA: 0s - loss: 1.5933 - accuracy: 0.3393\n",
            "Epoch 34: val_loss did not improve from 1.60675\n",
            "55/55 [==============================] - 0s 5ms/step - loss: 1.5940 - accuracy: 0.3417 - val_loss: 1.6259 - val_accuracy: 0.3040\n",
            "Epoch 35/100\n",
            "46/55 [========================>.....] - ETA: 0s - loss: 1.5962 - accuracy: 0.3404\n",
            "Epoch 35: val_loss did not improve from 1.60675\n",
            "55/55 [==============================] - 0s 5ms/step - loss: 1.5948 - accuracy: 0.3400 - val_loss: 1.6205 - val_accuracy: 0.3013\n",
            "Epoch 36/100\n",
            "46/55 [========================>.....] - ETA: 0s - loss: 1.5976 - accuracy: 0.3431\n",
            "Epoch 36: val_loss did not improve from 1.60675\n",
            "55/55 [==============================] - 0s 6ms/step - loss: 1.5932 - accuracy: 0.3412 - val_loss: 1.6088 - val_accuracy: 0.3013\n",
            "Epoch 37/100\n",
            "48/55 [=========================>....] - ETA: 0s - loss: 1.5867 - accuracy: 0.3451\n",
            "Epoch 37: val_loss did not improve from 1.60675\n",
            "55/55 [==============================] - 0s 6ms/step - loss: 1.5928 - accuracy: 0.3417 - val_loss: 1.6075 - val_accuracy: 0.3013\n",
            "Epoch 38/100\n",
            "49/55 [=========================>....] - ETA: 0s - loss: 1.5995 - accuracy: 0.3310\n",
            "Epoch 38: val_loss did not improve from 1.60675\n",
            "55/55 [==============================] - 0s 6ms/step - loss: 1.5961 - accuracy: 0.3412 - val_loss: 1.6094 - val_accuracy: 0.3013\n",
            "Epoch 39/100\n",
            "53/55 [===========================>..] - ETA: 0s - loss: 1.5839 - accuracy: 0.3461\n",
            "Epoch 39: val_loss did not improve from 1.60675\n",
            "55/55 [==============================] - 0s 5ms/step - loss: 1.5934 - accuracy: 0.3417 - val_loss: 1.6095 - val_accuracy: 0.3013\n",
            "Epoch 40/100\n",
            "54/55 [============================>.] - ETA: 0s - loss: 1.5970 - accuracy: 0.3420\n",
            "Epoch 40: val_loss did not improve from 1.60675\n",
            "55/55 [==============================] - 0s 5ms/step - loss: 1.5975 - accuracy: 0.3412 - val_loss: 1.6119 - val_accuracy: 0.3013\n",
            "Epoch 41/100\n",
            "53/55 [===========================>..] - ETA: 0s - loss: 1.5987 - accuracy: 0.3390\n",
            "Epoch 41: val_loss did not improve from 1.60675\n",
            "55/55 [==============================] - 0s 6ms/step - loss: 1.5971 - accuracy: 0.3412 - val_loss: 1.6111 - val_accuracy: 0.3013\n",
            "Epoch 42/100\n",
            "46/55 [========================>.....] - ETA: 0s - loss: 1.5995 - accuracy: 0.3356\n",
            "Epoch 42: val_loss did not improve from 1.60675\n",
            "55/55 [==============================] - 0s 4ms/step - loss: 1.5951 - accuracy: 0.3412 - val_loss: 1.6105 - val_accuracy: 0.3013\n",
            "Epoch 43/100\n",
            "53/55 [===========================>..] - ETA: 0s - loss: 1.5958 - accuracy: 0.3408\n",
            "Epoch 43: val_loss did not improve from 1.60675\n",
            "55/55 [==============================] - 0s 6ms/step - loss: 1.5958 - accuracy: 0.3417 - val_loss: 1.6088 - val_accuracy: 0.3013\n",
            "Epoch 44/100\n",
            "51/55 [==========================>...] - ETA: 0s - loss: 1.6027 - accuracy: 0.3352\n",
            "Epoch 44: val_loss did not improve from 1.60675\n",
            "55/55 [==============================] - 0s 6ms/step - loss: 1.5970 - accuracy: 0.3412 - val_loss: 1.6090 - val_accuracy: 0.3013\n",
            "Epoch 45/100\n",
            "42/55 [=====================>........] - ETA: 0s - loss: 1.5949 - accuracy: 0.3378\n",
            "Epoch 45: val_loss did not improve from 1.60675\n",
            "55/55 [==============================] - 0s 5ms/step - loss: 1.5914 - accuracy: 0.3412 - val_loss: 1.6126 - val_accuracy: 0.3013\n",
            "Epoch 46/100\n",
            "49/55 [=========================>....] - ETA: 0s - loss: 1.6043 - accuracy: 0.3418\n",
            "Epoch 46: val_loss did not improve from 1.60675\n",
            "55/55 [==============================] - 0s 6ms/step - loss: 1.6013 - accuracy: 0.3412 - val_loss: 1.6107 - val_accuracy: 0.3013\n",
            "Epoch 47/100\n",
            "51/55 [==========================>...] - ETA: 0s - loss: 1.5892 - accuracy: 0.3431\n",
            "Epoch 47: val_loss did not improve from 1.60675\n",
            "55/55 [==============================] - 0s 6ms/step - loss: 1.5951 - accuracy: 0.3412 - val_loss: 1.6102 - val_accuracy: 0.3013\n",
            "Epoch 48/100\n",
            "53/55 [===========================>..] - ETA: 0s - loss: 1.5948 - accuracy: 0.3408\n",
            "Epoch 48: val_loss did not improve from 1.60675\n",
            "55/55 [==============================] - 0s 6ms/step - loss: 1.5933 - accuracy: 0.3417 - val_loss: 1.6089 - val_accuracy: 0.3013\n",
            "Epoch 49/100\n",
            "53/55 [===========================>..] - ETA: 0s - loss: 1.5932 - accuracy: 0.3408\n",
            "Epoch 49: val_loss did not improve from 1.60675\n",
            "55/55 [==============================] - 0s 6ms/step - loss: 1.5929 - accuracy: 0.3412 - val_loss: 1.6162 - val_accuracy: 0.3013\n",
            "Epoch 50/100\n",
            "55/55 [==============================] - ETA: 0s - loss: 1.5935 - accuracy: 0.3412\n",
            "Epoch 50: val_loss did not improve from 1.60675\n",
            "55/55 [==============================] - 0s 6ms/step - loss: 1.5935 - accuracy: 0.3412 - val_loss: 1.6098 - val_accuracy: 0.3013\n",
            "Epoch 51/100\n",
            "42/55 [=====================>........] - ETA: 0s - loss: 1.5985 - accuracy: 0.3490\n",
            "Epoch 51: val_loss did not improve from 1.60675\n",
            "55/55 [==============================] - 0s 5ms/step - loss: 1.5986 - accuracy: 0.3412 - val_loss: 1.6106 - val_accuracy: 0.3013\n",
            "Epoch 52/100\n",
            "45/55 [=======================>......] - ETA: 0s - loss: 1.5926 - accuracy: 0.3389\n",
            "Epoch 52: val_loss did not improve from 1.60675\n",
            "55/55 [==============================] - 0s 5ms/step - loss: 1.5955 - accuracy: 0.3417 - val_loss: 1.6096 - val_accuracy: 0.3013\n",
            "Epoch 53/100\n",
            "53/55 [===========================>..] - ETA: 0s - loss: 1.6067 - accuracy: 0.3373\n",
            "Epoch 53: val_loss did not improve from 1.60675\n",
            "55/55 [==============================] - 0s 6ms/step - loss: 1.6009 - accuracy: 0.3412 - val_loss: 1.6161 - val_accuracy: 0.3013\n",
            "Epoch 54/100\n",
            "53/55 [===========================>..] - ETA: 0s - loss: 1.5947 - accuracy: 0.3438\n",
            "Epoch 54: val_loss did not improve from 1.60675\n",
            "55/55 [==============================] - 0s 6ms/step - loss: 1.5927 - accuracy: 0.3417 - val_loss: 1.6293 - val_accuracy: 0.3013\n",
            "Epoch 55/100\n",
            "43/55 [======================>.......] - ETA: 0s - loss: 1.5998 - accuracy: 0.3423\n",
            "Epoch 55: val_loss did not improve from 1.60675\n",
            "55/55 [==============================] - 0s 5ms/step - loss: 1.5945 - accuracy: 0.3412 - val_loss: 1.6389 - val_accuracy: 0.3013\n",
            "Epoch 56/100\n",
            "41/55 [=====================>........] - ETA: 0s - loss: 1.5910 - accuracy: 0.3399\n",
            "Epoch 56: val_loss did not improve from 1.60675\n",
            "55/55 [==============================] - 0s 5ms/step - loss: 1.5886 - accuracy: 0.3417 - val_loss: 1.6233 - val_accuracy: 0.3040\n",
            "Epoch 57/100\n",
            "49/55 [=========================>....] - ETA: 0s - loss: 1.5996 - accuracy: 0.3374\n",
            "Epoch 57: val_loss did not improve from 1.60675\n",
            "55/55 [==============================] - 0s 6ms/step - loss: 1.5964 - accuracy: 0.3412 - val_loss: 1.6130 - val_accuracy: 0.3040\n",
            "Epoch 58/100\n",
            "44/55 [=======================>......] - ETA: 0s - loss: 1.5949 - accuracy: 0.3402\n",
            "Epoch 58: val_loss did not improve from 1.60675\n",
            "55/55 [==============================] - 0s 5ms/step - loss: 1.5919 - accuracy: 0.3412 - val_loss: 1.6099 - val_accuracy: 0.3040\n",
            "Epoch 59/100\n",
            "45/55 [=======================>......] - ETA: 0s - loss: 1.5907 - accuracy: 0.3528\n",
            "Epoch 59: val_loss did not improve from 1.60675\n",
            "55/55 [==============================] - 0s 5ms/step - loss: 1.5881 - accuracy: 0.3434 - val_loss: 1.6152 - val_accuracy: 0.3040\n",
            "Epoch 60/100\n",
            "50/55 [==========================>...] - ETA: 0s - loss: 1.5926 - accuracy: 0.3438\n",
            "Epoch 60: val_loss did not improve from 1.60675\n",
            "55/55 [==============================] - 0s 6ms/step - loss: 1.5889 - accuracy: 0.3423 - val_loss: 1.6321 - val_accuracy: 0.3040\n",
            "Epoch 61/100\n",
            "55/55 [==============================] - ETA: 0s - loss: 1.5978 - accuracy: 0.3412\n",
            "Epoch 61: val_loss did not improve from 1.60675\n",
            "55/55 [==============================] - 0s 6ms/step - loss: 1.5978 - accuracy: 0.3412 - val_loss: 1.6262 - val_accuracy: 0.3040\n",
            "Epoch 62/100\n",
            "46/55 [========================>.....] - ETA: 0s - loss: 1.5911 - accuracy: 0.3397\n",
            "Epoch 62: val_loss did not improve from 1.60675\n",
            "55/55 [==============================] - 0s 6ms/step - loss: 1.5914 - accuracy: 0.3412 - val_loss: 1.6873 - val_accuracy: 0.3040\n",
            "Epoch 63/100\n",
            "51/55 [==========================>...] - ETA: 0s - loss: 1.5929 - accuracy: 0.3407\n",
            "Epoch 63: val_loss did not improve from 1.60675\n",
            "55/55 [==============================] - 0s 6ms/step - loss: 1.5912 - accuracy: 0.3417 - val_loss: 1.7722 - val_accuracy: 0.3013\n",
            "Epoch 64/100\n",
            "49/55 [=========================>....] - ETA: 0s - loss: 1.6226 - accuracy: 0.3335\n",
            "Epoch 64: val_loss improved from 1.60675 to 1.60643, saving model to saved_models/audio_classification.hdf5\n",
            "55/55 [==============================] - 0s 7ms/step - loss: 1.6150 - accuracy: 0.3400 - val_loss: 1.6064 - val_accuracy: 0.3040\n",
            "Epoch 65/100\n",
            "52/55 [===========================>..] - ETA: 0s - loss: 1.5999 - accuracy: 0.3425\n",
            "Epoch 65: val_loss did not improve from 1.60643\n",
            "55/55 [==============================] - 0s 6ms/step - loss: 1.5981 - accuracy: 0.3412 - val_loss: 1.6232 - val_accuracy: 0.3040\n",
            "Epoch 66/100\n",
            "45/55 [=======================>......] - ETA: 0s - loss: 1.5957 - accuracy: 0.3417\n",
            "Epoch 66: val_loss did not improve from 1.60643\n",
            "55/55 [==============================] - 0s 5ms/step - loss: 1.5931 - accuracy: 0.3412 - val_loss: 1.6351 - val_accuracy: 0.3040\n",
            "Epoch 67/100\n",
            "46/55 [========================>.....] - ETA: 0s - loss: 1.5980 - accuracy: 0.3370\n",
            "Epoch 67: val_loss did not improve from 1.60643\n",
            "55/55 [==============================] - 0s 5ms/step - loss: 1.5970 - accuracy: 0.3412 - val_loss: 1.6454 - val_accuracy: 0.3040\n",
            "Epoch 68/100\n",
            "55/55 [==============================] - ETA: 0s - loss: 1.5916 - accuracy: 0.3417\n",
            "Epoch 68: val_loss did not improve from 1.60643\n",
            "55/55 [==============================] - 0s 5ms/step - loss: 1.5916 - accuracy: 0.3417 - val_loss: 1.6425 - val_accuracy: 0.3040\n",
            "Epoch 69/100\n",
            "45/55 [=======================>......] - ETA: 0s - loss: 1.5949 - accuracy: 0.3438\n",
            "Epoch 69: val_loss did not improve from 1.60643\n",
            "55/55 [==============================] - 0s 6ms/step - loss: 1.5913 - accuracy: 0.3417 - val_loss: 1.6161 - val_accuracy: 0.3013\n",
            "Epoch 70/100\n",
            "52/55 [===========================>..] - ETA: 0s - loss: 1.6047 - accuracy: 0.3407\n",
            "Epoch 70: val_loss did not improve from 1.60643\n",
            "55/55 [==============================] - 0s 6ms/step - loss: 1.6035 - accuracy: 0.3412 - val_loss: 1.6230 - val_accuracy: 0.3013\n",
            "Epoch 71/100\n",
            "43/55 [======================>.......] - ETA: 0s - loss: 1.5925 - accuracy: 0.3365\n",
            "Epoch 71: val_loss did not improve from 1.60643\n",
            "55/55 [==============================] - 0s 5ms/step - loss: 1.5918 - accuracy: 0.3417 - val_loss: 1.6335 - val_accuracy: 0.3027\n",
            "Epoch 72/100\n",
            "45/55 [=======================>......] - ETA: 0s - loss: 1.5988 - accuracy: 0.3458\n",
            "Epoch 72: val_loss did not improve from 1.60643\n",
            "55/55 [==============================] - 0s 5ms/step - loss: 1.5990 - accuracy: 0.3412 - val_loss: 1.6356 - val_accuracy: 0.3027\n",
            "Epoch 73/100\n",
            "43/55 [======================>.......] - ETA: 0s - loss: 1.6097 - accuracy: 0.3539\n",
            "Epoch 73: val_loss did not improve from 1.60643\n",
            "55/55 [==============================] - 0s 5ms/step - loss: 1.6159 - accuracy: 0.3417 - val_loss: 1.6104 - val_accuracy: 0.3013\n",
            "Epoch 74/100\n",
            "49/55 [=========================>....] - ETA: 0s - loss: 1.6040 - accuracy: 0.3329\n",
            "Epoch 74: val_loss did not improve from 1.60643\n",
            "55/55 [==============================] - 0s 4ms/step - loss: 1.5963 - accuracy: 0.3400 - val_loss: 1.6169 - val_accuracy: 0.3013\n",
            "Epoch 75/100\n",
            "45/55 [=======================>......] - ETA: 0s - loss: 1.6013 - accuracy: 0.3396\n",
            "Epoch 75: val_loss did not improve from 1.60643\n",
            "55/55 [==============================] - 0s 5ms/step - loss: 1.6044 - accuracy: 0.3412 - val_loss: 1.6081 - val_accuracy: 0.3040\n",
            "Epoch 76/100\n",
            "44/55 [=======================>......] - ETA: 0s - loss: 1.6083 - accuracy: 0.3459\n",
            "Epoch 76: val_loss did not improve from 1.60643\n",
            "55/55 [==============================] - 0s 5ms/step - loss: 1.6162 - accuracy: 0.3412 - val_loss: 1.6135 - val_accuracy: 0.3013\n",
            "Epoch 77/100\n",
            "49/55 [=========================>....] - ETA: 0s - loss: 1.6006 - accuracy: 0.3386\n",
            "Epoch 77: val_loss did not improve from 1.60643\n",
            "55/55 [==============================] - 0s 6ms/step - loss: 1.5989 - accuracy: 0.3412 - val_loss: 1.6116 - val_accuracy: 0.3013\n",
            "Epoch 78/100\n",
            "55/55 [==============================] - ETA: 0s - loss: 1.6023 - accuracy: 0.3412\n",
            "Epoch 78: val_loss did not improve from 1.60643\n",
            "55/55 [==============================] - 0s 5ms/step - loss: 1.6023 - accuracy: 0.3412 - val_loss: 1.6104 - val_accuracy: 0.3013\n",
            "Epoch 79/100\n",
            "51/55 [==========================>...] - ETA: 0s - loss: 1.6045 - accuracy: 0.3333\n",
            "Epoch 79: val_loss did not improve from 1.60643\n",
            "55/55 [==============================] - 0s 5ms/step - loss: 1.5974 - accuracy: 0.3412 - val_loss: 1.6072 - val_accuracy: 0.3040\n",
            "Epoch 80/100\n",
            "55/55 [==============================] - ETA: 0s - loss: 1.5934 - accuracy: 0.3412\n",
            "Epoch 80: val_loss improved from 1.60643 to 1.60508, saving model to saved_models/audio_classification.hdf5\n",
            "55/55 [==============================] - 0s 6ms/step - loss: 1.5934 - accuracy: 0.3412 - val_loss: 1.6051 - val_accuracy: 0.3040\n",
            "Epoch 81/100\n",
            "45/55 [=======================>......] - ETA: 0s - loss: 1.5940 - accuracy: 0.3458\n",
            "Epoch 81: val_loss did not improve from 1.60508\n",
            "55/55 [==============================] - 0s 5ms/step - loss: 1.5988 - accuracy: 0.3412 - val_loss: 1.6088 - val_accuracy: 0.3040\n",
            "Epoch 82/100\n",
            "46/55 [========================>.....] - ETA: 0s - loss: 1.6057 - accuracy: 0.3356\n",
            "Epoch 82: val_loss did not improve from 1.60508\n",
            "55/55 [==============================] - 0s 5ms/step - loss: 1.5966 - accuracy: 0.3417 - val_loss: 1.6087 - val_accuracy: 0.3040\n",
            "Epoch 83/100\n",
            "44/55 [=======================>......] - ETA: 0s - loss: 1.5972 - accuracy: 0.3430\n",
            "Epoch 83: val_loss did not improve from 1.60508\n",
            "55/55 [==============================] - 0s 5ms/step - loss: 1.5944 - accuracy: 0.3412 - val_loss: 1.6105 - val_accuracy: 0.3040\n",
            "Epoch 84/100\n",
            "52/55 [===========================>..] - ETA: 0s - loss: 1.5958 - accuracy: 0.3431\n",
            "Epoch 84: val_loss did not improve from 1.60508\n",
            "55/55 [==============================] - 0s 5ms/step - loss: 1.5999 - accuracy: 0.3406 - val_loss: 1.6066 - val_accuracy: 0.3040\n",
            "Epoch 85/100\n",
            "55/55 [==============================] - ETA: 0s - loss: 1.5937 - accuracy: 0.3412\n",
            "Epoch 85: val_loss did not improve from 1.60508\n",
            "55/55 [==============================] - 0s 5ms/step - loss: 1.5937 - accuracy: 0.3412 - val_loss: 1.6072 - val_accuracy: 0.3027\n",
            "Epoch 86/100\n",
            "52/55 [===========================>..] - ETA: 0s - loss: 1.5922 - accuracy: 0.3431\n",
            "Epoch 86: val_loss did not improve from 1.60508\n",
            "55/55 [==============================] - 0s 5ms/step - loss: 1.5904 - accuracy: 0.3406 - val_loss: 1.6148 - val_accuracy: 0.3040\n",
            "Epoch 87/100\n",
            "41/55 [=====================>........] - ETA: 0s - loss: 1.5793 - accuracy: 0.3552\n",
            "Epoch 87: val_loss did not improve from 1.60508\n",
            "55/55 [==============================] - 0s 5ms/step - loss: 1.5894 - accuracy: 0.3417 - val_loss: 1.6243 - val_accuracy: 0.3040\n",
            "Epoch 88/100\n",
            "48/55 [=========================>....] - ETA: 0s - loss: 1.5993 - accuracy: 0.3346\n",
            "Epoch 88: val_loss did not improve from 1.60508\n",
            "55/55 [==============================] - 0s 4ms/step - loss: 1.5934 - accuracy: 0.3423 - val_loss: 1.6232 - val_accuracy: 0.3040\n",
            "Epoch 89/100\n",
            "52/55 [===========================>..] - ETA: 0s - loss: 1.6061 - accuracy: 0.3383\n",
            "Epoch 89: val_loss did not improve from 1.60508\n",
            "55/55 [==============================] - 0s 5ms/step - loss: 1.6007 - accuracy: 0.3412 - val_loss: 1.6139 - val_accuracy: 0.3040\n",
            "Epoch 90/100\n",
            "49/55 [=========================>....] - ETA: 0s - loss: 1.5891 - accuracy: 0.3386\n",
            "Epoch 90: val_loss did not improve from 1.60508\n",
            "55/55 [==============================] - 0s 5ms/step - loss: 1.5903 - accuracy: 0.3412 - val_loss: 1.6316 - val_accuracy: 0.3040\n",
            "Epoch 91/100\n",
            "48/55 [=========================>....] - ETA: 0s - loss: 1.5868 - accuracy: 0.3385\n",
            "Epoch 91: val_loss did not improve from 1.60508\n",
            "55/55 [==============================] - 0s 5ms/step - loss: 1.5902 - accuracy: 0.3412 - val_loss: 1.6209 - val_accuracy: 0.3027\n",
            "Epoch 92/100\n",
            "41/55 [=====================>........] - ETA: 0s - loss: 1.5724 - accuracy: 0.3468\n",
            "Epoch 92: val_loss did not improve from 1.60508\n",
            "55/55 [==============================] - 0s 5ms/step - loss: 1.5926 - accuracy: 0.3417 - val_loss: 1.6187 - val_accuracy: 0.3040\n",
            "Epoch 93/100\n",
            "52/55 [===========================>..] - ETA: 0s - loss: 1.5866 - accuracy: 0.3431\n",
            "Epoch 93: val_loss did not improve from 1.60508\n",
            "55/55 [==============================] - 0s 6ms/step - loss: 1.5883 - accuracy: 0.3423 - val_loss: 1.6278 - val_accuracy: 0.3040\n",
            "Epoch 94/100\n",
            "47/55 [========================>.....] - ETA: 0s - loss: 1.5978 - accuracy: 0.3424\n",
            "Epoch 94: val_loss did not improve from 1.60508\n",
            "55/55 [==============================] - 0s 6ms/step - loss: 1.5902 - accuracy: 0.3412 - val_loss: 1.6168 - val_accuracy: 0.3040\n",
            "Epoch 95/100\n",
            "48/55 [=========================>....] - ETA: 0s - loss: 1.5996 - accuracy: 0.3438\n",
            "Epoch 95: val_loss did not improve from 1.60508\n",
            "55/55 [==============================] - 0s 6ms/step - loss: 1.6021 - accuracy: 0.3412 - val_loss: 1.6190 - val_accuracy: 0.3040\n",
            "Epoch 96/100\n",
            "55/55 [==============================] - ETA: 0s - loss: 1.5902 - accuracy: 0.3412\n",
            "Epoch 96: val_loss did not improve from 1.60508\n",
            "55/55 [==============================] - 0s 5ms/step - loss: 1.5902 - accuracy: 0.3412 - val_loss: 1.6193 - val_accuracy: 0.3040\n",
            "Epoch 97/100\n",
            "55/55 [==============================] - ETA: 0s - loss: 1.5948 - accuracy: 0.3423\n",
            "Epoch 97: val_loss did not improve from 1.60508\n",
            "55/55 [==============================] - 0s 7ms/step - loss: 1.5948 - accuracy: 0.3423 - val_loss: 1.6182 - val_accuracy: 0.3040\n",
            "Epoch 98/100\n",
            "51/55 [==========================>...] - ETA: 0s - loss: 1.5975 - accuracy: 0.3419\n",
            "Epoch 98: val_loss did not improve from 1.60508\n",
            "55/55 [==============================] - 0s 5ms/step - loss: 1.5962 - accuracy: 0.3417 - val_loss: 1.6121 - val_accuracy: 0.3027\n",
            "Epoch 99/100\n",
            "51/55 [==========================>...] - ETA: 0s - loss: 1.5927 - accuracy: 0.3444\n",
            "Epoch 99: val_loss did not improve from 1.60508\n",
            "55/55 [==============================] - 0s 5ms/step - loss: 1.5947 - accuracy: 0.3412 - val_loss: 1.6135 - val_accuracy: 0.3027\n",
            "Epoch 100/100\n",
            "46/55 [========================>.....] - ETA: 0s - loss: 1.5874 - accuracy: 0.3383\n",
            "Epoch 100: val_loss did not improve from 1.60508\n",
            "55/55 [==============================] - 0s 6ms/step - loss: 1.5882 - accuracy: 0.3412 - val_loss: 1.6280 - val_accuracy: 0.3013\n"
          ]
        }
      ]
    },
    {
      "cell_type": "code",
      "source": [
        "test_accuracy = model.evaluate(X_val,y_val,verbose=0)\n",
        "print(test_accuracy[1])"
      ],
      "metadata": {
        "colab": {
          "base_uri": "https://localhost:8080/"
        },
        "id": "DapwZ9w4HcgS",
        "outputId": "4f884a62-e136-48e2-9a41-49a7d6dbe44c"
      },
      "execution_count": null,
      "outputs": [
        {
          "output_type": "stream",
          "name": "stdout",
          "text": [
            "0.42933332920074463\n"
          ]
        }
      ]
    },
    {
      "cell_type": "markdown",
      "source": [
        "## Lets try to fit in a SVM model."
      ],
      "metadata": {
        "id": "U_NgYDJ0aRmG"
      }
    },
    {
      "cell_type": "code",
      "source": [
        "from sklearn.pipeline import Pipeline"
      ],
      "metadata": {
        "id": "-h0OX2ilFwWC"
      },
      "execution_count": null,
      "outputs": []
    },
    {
      "cell_type": "code",
      "source": [
        "from sklearn.preprocessing import StandardScaler\n",
        "from sklearn import svm\n",
        "\n",
        "pipe = Pipeline([('scaler',StandardScaler()),('svm',svm.SVC(C=1))])\n",
        "X_train, X_val, y_train, y_val = train_test_split(z,y1,test_size=0.3)\n"
      ],
      "metadata": {
        "id": "taw93t9YE8Pv"
      },
      "execution_count": null,
      "outputs": []
    },
    {
      "cell_type": "code",
      "source": [
        "pipe.fit(X_train,y_train)"
      ],
      "metadata": {
        "colab": {
          "base_uri": "https://localhost:8080/"
        },
        "id": "Jvh3tlKcF3l0",
        "outputId": "10c8bb9b-0dba-46f6-bb72-323baf7469b1"
      },
      "execution_count": null,
      "outputs": [
        {
          "output_type": "execute_result",
          "data": {
            "text/plain": [
              "Pipeline(steps=[('scaler', StandardScaler()), ('svm', SVC(C=1))])"
            ]
          },
          "metadata": {},
          "execution_count": 47
        }
      ]
    },
    {
      "cell_type": "code",
      "source": [
        "print(pipe.score(X_val,y_val))"
      ],
      "metadata": {
        "colab": {
          "base_uri": "https://localhost:8080/"
        },
        "id": "pC74fgSpGQlI",
        "outputId": "79321175-de4a-4373-c057-178b963363e7"
      },
      "execution_count": null,
      "outputs": [
        {
          "output_type": "stream",
          "name": "stdout",
          "text": [
            "0.44533333333333336\n"
          ]
        }
      ]
    },
    {
      "cell_type": "markdown",
      "source": [
        "### Let us plot a confusion matrix."
      ],
      "metadata": {
        "id": "4f9tY7zDarUF"
      }
    },
    {
      "cell_type": "code",
      "source": [
        "import matplotlib.pyplot as plt\n",
        "from sklearn.datasets import make_classification\n",
        "from sklearn.metrics import plot_confusion_matrix\n",
        "from sklearn.model_selection import train_test_split\n",
        "from sklearn.svm import SVC\n",
        "\n",
        "scaler = StandardScaler()\n",
        "scaler.fit(X_train)\n",
        "clf = svm.SVC(C=1,gamma=2)\n",
        "clf.fit(X_train, y_train)\n",
        "\n",
        "f = plt.figure()\n",
        "f.set_figwidth(25)\n",
        "f.set_figheight(10)\n",
        "  \n",
        "plot_confusion_matrix(clf, X_val, y_val)  \n",
        "plt.show()"
      ],
      "metadata": {
        "colab": {
          "base_uri": "https://localhost:8080/",
          "height": 354
        },
        "id": "hWGjo9fPHeBJ",
        "outputId": "cd10171e-b3e7-4e27-8412-6eb98f3468e5"
      },
      "execution_count": null,
      "outputs": [
        {
          "output_type": "stream",
          "name": "stderr",
          "text": [
            "/usr/local/lib/python3.8/dist-packages/sklearn/utils/deprecation.py:87: FutureWarning: Function plot_confusion_matrix is deprecated; Function `plot_confusion_matrix` is deprecated in 1.0 and will be removed in 1.2. Use one of the class methods: ConfusionMatrixDisplay.from_predictions or ConfusionMatrixDisplay.from_estimator.\n",
            "  warnings.warn(msg, category=FutureWarning)\n"
          ]
        },
        {
          "output_type": "display_data",
          "data": {
            "text/plain": [
              "<Figure size 1800x720 with 0 Axes>"
            ]
          },
          "metadata": {}
        },
        {
          "output_type": "display_data",
          "data": {
            "text/plain": [
              "<Figure size 432x288 with 2 Axes>"
            ],
            "image/png": "[encoded data removed]"
          },
          "metadata": {
            "needs_background": "light"
          }
        }
      ]
    },
    {
      "cell_type": "markdown",
      "source": [
        "# **9 Conclusion**\n",
        "\n"
      ],
      "metadata": {
        "id": "tdByzOtwfCWZ"
      }
    },
    {
      "cell_type": "markdown",
      "source": [
        "### Let us try combining the MFCC and the other extracted features and train  the neural network."
      ],
      "metadata": {
        "id": "pbtOdhCma6b5"
      }
    },
    {
      "cell_type": "code",
      "source": [
        "X_train1 = X_train"
      ],
      "metadata": {
        "id": "thBOzNhzHeLJ"
      },
      "execution_count": null,
      "outputs": []
    },
    {
      "cell_type": "code",
      "source": [
        "X_train.shape"
      ],
      "metadata": {
        "colab": {
          "base_uri": "https://localhost:8080/"
        },
        "id": "ysM79dRyHYtJ",
        "outputId": "dbbd04ce-3e0d-4b83-9b7f-b9f863a1791b"
      },
      "execution_count": null,
      "outputs": [
        {
          "output_type": "execute_result",
          "data": {
            "text/plain": [
              "(1747, 4)"
            ]
          },
          "metadata": {},
          "execution_count": 45
        }
      ]
    },
    {
      "cell_type": "code",
      "source": [
        "X.shape"
      ],
      "metadata": {
        "colab": {
          "base_uri": "https://localhost:8080/"
        },
        "id": "7b6OqE4EHwcX",
        "outputId": "8fa26c36-c400-4968-f4f0-2c06ab3ca69a"
      },
      "execution_count": null,
      "outputs": [
        {
          "output_type": "execute_result",
          "data": {
            "text/plain": [
              "(2497, 4)"
            ]
          },
          "metadata": {},
          "execution_count": 75
        }
      ]
    },
    {
      "cell_type": "code",
      "source": [
        "z.shape"
      ],
      "metadata": {
        "colab": {
          "base_uri": "https://localhost:8080/"
        },
        "id": "n9Wpg690QL69",
        "outputId": "64628979-ce48-41e4-d8a5-9cab43af32f7"
      },
      "execution_count": null,
      "outputs": [
        {
          "output_type": "execute_result",
          "data": {
            "text/plain": [
              "(2497, 40)"
            ]
          },
          "metadata": {},
          "execution_count": 76
        }
      ]
    },
    {
      "cell_type": "code",
      "source": [
        "data = np.append(z, X, axis=1)"
      ],
      "metadata": {
        "id": "uuyW25O6QN9M"
      },
      "execution_count": null,
      "outputs": []
    },
    {
      "cell_type": "code",
      "source": [
        "X_train, X_val, y_train, y_val = train_test_split(data,y,test_size=0.3)"
      ],
      "metadata": {
        "id": "vlI1zL_QQYs4"
      },
      "execution_count": null,
      "outputs": []
    },
    {
      "cell_type": "code",
      "source": [
        "num_labels = y.shape[1]"
      ],
      "metadata": {
        "id": "IBsmaE48QjJ0"
      },
      "execution_count": null,
      "outputs": []
    },
    {
      "cell_type": "code",
      "source": [
        "import tensorflow as tf\n",
        "from tensorflow.keras.models import Sequential\n",
        "from tensorflow.keras.layers import Dense,Dropout,Activation,Flatten\n",
        "from tensorflow.keras.optimizers import Adam\n",
        "from sklearn import metrics\n",
        "\n",
        "num_labels = y.shape[1]\n",
        "\n",
        "model = Sequential()\n",
        "\n",
        "model.add(Dense(100,input_shape=(44,)))\n",
        "model.add(Activation('relu'))\n",
        "model.add(Dropout(0.5))\n",
        "\n",
        "model.add(Dense(200))\n",
        "model.add(Activation('relu'))\n",
        "model.add(Dropout(0.5))\n",
        "\n",
        "model.add(Dense(100))\n",
        "model.add(Activation('relu'))\n",
        "model.add(Dropout(0.5))\n",
        "\n",
        "model.add(Dense(num_labels))\n",
        "model.add(Activation('softmax'))\n",
        "\n",
        "model.compile(loss='categorical_crossentropy',metrics=['accuracy'],optimizer='adam')\n",
        "\n",
        "from tensorflow.keras.callbacks import ModelCheckpoint\n",
        "from datetime import datetime\n",
        "\n"
      ],
      "metadata": {
        "id": "b-ym1vmzRnne",
        "colab": {
          "base_uri": "https://localhost:8080/"
        },
        "outputId": "736da9cb-1cf9-47df-ff74-e45609d1a0df"
      },
      "execution_count": null,
      "outputs": [
        {
          "output_type": "stream",
          "name": "stdout",
          "text": [
            "Epoch 1/100\n",
            "47/55 [========================>.....] - ETA: 0s - loss: 29.5344 - accuracy: 0.2267\n",
            "Epoch 1: val_loss improved from inf to 1.83107, saving model to saved_models/audio_classification.hdf5\n",
            "55/55 [==============================] - 2s 9ms/step - loss: 27.1905 - accuracy: 0.2318 - val_loss: 1.8311 - val_accuracy: 0.2547\n",
            "Epoch 2/100\n",
            "41/55 [=====================>........] - ETA: 0s - loss: 9.6281 - accuracy: 0.2119 \n",
            "Epoch 2: val_loss improved from 1.83107 to 1.79445, saving model to saved_models/audio_classification.hdf5\n",
            "55/55 [==============================] - 0s 6ms/step - loss: 8.7916 - accuracy: 0.2032 - val_loss: 1.7945 - val_accuracy: 0.1533\n",
            "Epoch 3/100\n",
            "43/55 [======================>.......] - ETA: 0s - loss: 4.5425 - accuracy: 0.2137\n",
            "Epoch 3: val_loss improved from 1.79445 to 1.76725, saving model to saved_models/audio_classification.hdf5\n",
            "55/55 [==============================] - 0s 6ms/step - loss: 4.2906 - accuracy: 0.2112 - val_loss: 1.7673 - val_accuracy: 0.2880\n",
            "Epoch 4/100\n",
            "41/55 [=====================>........] - ETA: 0s - loss: 2.9242 - accuracy: 0.2424\n",
            "Epoch 4: val_loss improved from 1.76725 to 1.76036, saving model to saved_models/audio_classification.hdf5\n",
            "55/55 [==============================] - 0s 6ms/step - loss: 2.8568 - accuracy: 0.2381 - val_loss: 1.7604 - val_accuracy: 0.3413\n",
            "Epoch 5/100\n",
            "52/55 [===========================>..] - ETA: 0s - loss: 2.2099 - accuracy: 0.2464\n",
            "Epoch 5: val_loss improved from 1.76036 to 1.74585, saving model to saved_models/audio_classification.hdf5\n",
            "55/55 [==============================] - 0s 6ms/step - loss: 2.2062 - accuracy: 0.2461 - val_loss: 1.7459 - val_accuracy: 0.3427\n",
            "Epoch 6/100\n",
            "46/55 [========================>.....] - ETA: 0s - loss: 2.0374 - accuracy: 0.2724\n",
            "Epoch 6: val_loss improved from 1.74585 to 1.73181, saving model to saved_models/audio_classification.hdf5\n",
            "55/55 [==============================] - 0s 5ms/step - loss: 2.0324 - accuracy: 0.2667 - val_loss: 1.7318 - val_accuracy: 0.3347\n",
            "Epoch 7/100\n",
            "51/55 [==========================>...] - ETA: 0s - loss: 1.8871 - accuracy: 0.3107\n",
            "Epoch 7: val_loss improved from 1.73181 to 1.71821, saving model to saved_models/audio_classification.hdf5\n",
            "55/55 [==============================] - 0s 6ms/step - loss: 1.9025 - accuracy: 0.3085 - val_loss: 1.7182 - val_accuracy: 0.3347\n",
            "Epoch 8/100\n",
            "49/55 [=========================>....] - ETA: 0s - loss: 1.8397 - accuracy: 0.2825\n",
            "Epoch 8: val_loss improved from 1.71821 to 1.70507, saving model to saved_models/audio_classification.hdf5\n",
            "55/55 [==============================] - 0s 7ms/step - loss: 1.8401 - accuracy: 0.2816 - val_loss: 1.7051 - val_accuracy: 0.3347\n",
            "Epoch 9/100\n",
            "53/55 [===========================>..] - ETA: 0s - loss: 1.8097 - accuracy: 0.3001\n",
            "Epoch 9: val_loss improved from 1.70507 to 1.69360, saving model to saved_models/audio_classification.hdf5\n",
            "55/55 [==============================] - 0s 6ms/step - loss: 1.8077 - accuracy: 0.3005 - val_loss: 1.6936 - val_accuracy: 0.3347\n",
            "Epoch 10/100\n",
            "51/55 [==========================>...] - ETA: 0s - loss: 1.7521 - accuracy: 0.3027\n",
            "Epoch 10: val_loss improved from 1.69360 to 1.68336, saving model to saved_models/audio_classification.hdf5\n",
            "55/55 [==============================] - 0s 6ms/step - loss: 1.7490 - accuracy: 0.3057 - val_loss: 1.6834 - val_accuracy: 0.3347\n",
            "Epoch 11/100\n",
            "42/55 [=====================>........] - ETA: 0s - loss: 1.7390 - accuracy: 0.3103\n",
            "Epoch 11: val_loss improved from 1.68336 to 1.67420, saving model to saved_models/audio_classification.hdf5\n",
            "55/55 [==============================] - 0s 5ms/step - loss: 1.7305 - accuracy: 0.3125 - val_loss: 1.6742 - val_accuracy: 0.3347\n",
            "Epoch 12/100\n",
            "46/55 [========================>.....] - ETA: 0s - loss: 1.7470 - accuracy: 0.3077\n",
            "Epoch 12: val_loss improved from 1.67420 to 1.66710, saving model to saved_models/audio_classification.hdf5\n",
            "55/55 [==============================] - 0s 5ms/step - loss: 1.7355 - accuracy: 0.3160 - val_loss: 1.6671 - val_accuracy: 0.3347\n",
            "Epoch 13/100\n",
            "48/55 [=========================>....] - ETA: 0s - loss: 1.7241 - accuracy: 0.3014\n",
            "Epoch 13: val_loss improved from 1.66710 to 1.65999, saving model to saved_models/audio_classification.hdf5\n",
            "55/55 [==============================] - 0s 5ms/step - loss: 1.7201 - accuracy: 0.3051 - val_loss: 1.6600 - val_accuracy: 0.3347\n",
            "Epoch 14/100\n",
            "47/55 [========================>.....] - ETA: 0s - loss: 1.6864 - accuracy: 0.3191\n",
            "Epoch 14: val_loss improved from 1.65999 to 1.65374, saving model to saved_models/audio_classification.hdf5\n",
            "55/55 [==============================] - 0s 5ms/step - loss: 1.6916 - accuracy: 0.3188 - val_loss: 1.6537 - val_accuracy: 0.3347\n",
            "Epoch 15/100\n",
            "43/55 [======================>.......] - ETA: 0s - loss: 1.6811 - accuracy: 0.3278\n",
            "Epoch 15: val_loss improved from 1.65374 to 1.64860, saving model to saved_models/audio_classification.hdf5\n",
            "55/55 [==============================] - 0s 6ms/step - loss: 1.6816 - accuracy: 0.3194 - val_loss: 1.6486 - val_accuracy: 0.3347\n",
            "Epoch 16/100\n",
            "53/55 [===========================>..] - ETA: 0s - loss: 1.6724 - accuracy: 0.3154\n",
            "Epoch 16: val_loss improved from 1.64860 to 1.64455, saving model to saved_models/audio_classification.hdf5\n",
            "55/55 [==============================] - 0s 6ms/step - loss: 1.6703 - accuracy: 0.3154 - val_loss: 1.6445 - val_accuracy: 0.3347\n",
            "Epoch 17/100\n",
            "43/55 [======================>.......] - ETA: 0s - loss: 1.6762 - accuracy: 0.3161\n",
            "Epoch 17: val_loss improved from 1.64455 to 1.64088, saving model to saved_models/audio_classification.hdf5\n",
            "55/55 [==============================] - 0s 6ms/step - loss: 1.6649 - accuracy: 0.3223 - val_loss: 1.6409 - val_accuracy: 0.3347\n",
            "Epoch 18/100\n",
            "53/55 [===========================>..] - ETA: 0s - loss: 1.6498 - accuracy: 0.3166\n",
            "Epoch 18: val_loss improved from 1.64088 to 1.63716, saving model to saved_models/audio_classification.hdf5\n",
            "55/55 [==============================] - 0s 6ms/step - loss: 1.6501 - accuracy: 0.3165 - val_loss: 1.6372 - val_accuracy: 0.3347\n",
            "Epoch 19/100\n",
            "46/55 [========================>.....] - ETA: 0s - loss: 1.6495 - accuracy: 0.3179\n",
            "Epoch 19: val_loss improved from 1.63716 to 1.63481, saving model to saved_models/audio_classification.hdf5\n",
            "55/55 [==============================] - 0s 5ms/step - loss: 1.6464 - accuracy: 0.3205 - val_loss: 1.6348 - val_accuracy: 0.3347\n",
            "Epoch 20/100\n",
            "46/55 [========================>.....] - ETA: 0s - loss: 1.6757 - accuracy: 0.3145\n",
            "Epoch 20: val_loss improved from 1.63481 to 1.63227, saving model to saved_models/audio_classification.hdf5\n",
            "55/55 [==============================] - 0s 5ms/step - loss: 1.6624 - accuracy: 0.3234 - val_loss: 1.6323 - val_accuracy: 0.3347\n",
            "Epoch 21/100\n",
            "43/55 [======================>.......] - ETA: 0s - loss: 1.6577 - accuracy: 0.3183\n",
            "Epoch 21: val_loss improved from 1.63227 to 1.62985, saving model to saved_models/audio_classification.hdf5\n",
            "55/55 [==============================] - 0s 6ms/step - loss: 1.6503 - accuracy: 0.3246 - val_loss: 1.6298 - val_accuracy: 0.3347\n",
            "Epoch 22/100\n",
            "44/55 [=======================>......] - ETA: 0s - loss: 1.6303 - accuracy: 0.3288\n",
            "Epoch 22: val_loss improved from 1.62985 to 1.62818, saving model to saved_models/audio_classification.hdf5\n",
            "55/55 [==============================] - 0s 5ms/step - loss: 1.6388 - accuracy: 0.3257 - val_loss: 1.6282 - val_accuracy: 0.3347\n",
            "Epoch 23/100\n",
            "52/55 [===========================>..] - ETA: 0s - loss: 1.6483 - accuracy: 0.3167\n",
            "Epoch 23: val_loss improved from 1.62818 to 1.62658, saving model to saved_models/audio_classification.hdf5\n",
            "55/55 [==============================] - 0s 6ms/step - loss: 1.6489 - accuracy: 0.3165 - val_loss: 1.6266 - val_accuracy: 0.3347\n",
            "Epoch 24/100\n",
            "44/55 [=======================>......] - ETA: 0s - loss: 1.6394 - accuracy: 0.3295\n",
            "Epoch 24: val_loss improved from 1.62658 to 1.62528, saving model to saved_models/audio_classification.hdf5\n",
            "55/55 [==============================] - 0s 7ms/step - loss: 1.6491 - accuracy: 0.3234 - val_loss: 1.6253 - val_accuracy: 0.3347\n",
            "Epoch 25/100\n",
            "44/55 [=======================>......] - ETA: 0s - loss: 1.6348 - accuracy: 0.3196\n",
            "Epoch 25: val_loss improved from 1.62528 to 1.62411, saving model to saved_models/audio_classification.hdf5\n",
            "55/55 [==============================] - 0s 6ms/step - loss: 1.6378 - accuracy: 0.3194 - val_loss: 1.6241 - val_accuracy: 0.3347\n",
            "Epoch 26/100\n",
            "45/55 [=======================>......] - ETA: 0s - loss: 1.6311 - accuracy: 0.3208\n",
            "Epoch 26: val_loss improved from 1.62411 to 1.62305, saving model to saved_models/audio_classification.hdf5\n",
            "55/55 [==============================] - 0s 6ms/step - loss: 1.6299 - accuracy: 0.3251 - val_loss: 1.6231 - val_accuracy: 0.3347\n",
            "Epoch 27/100\n",
            "41/55 [=====================>........] - ETA: 0s - loss: 1.6359 - accuracy: 0.3293\n",
            "Epoch 27: val_loss improved from 1.62305 to 1.62227, saving model to saved_models/audio_classification.hdf5\n",
            "55/55 [==============================] - 0s 5ms/step - loss: 1.6363 - accuracy: 0.3234 - val_loss: 1.6223 - val_accuracy: 0.3347\n",
            "Epoch 28/100\n",
            "49/55 [=========================>....] - ETA: 0s - loss: 1.6292 - accuracy: 0.3253\n",
            "Epoch 28: val_loss improved from 1.62227 to 1.62173, saving model to saved_models/audio_classification.hdf5\n",
            "55/55 [==============================] - 0s 5ms/step - loss: 1.6301 - accuracy: 0.3251 - val_loss: 1.6217 - val_accuracy: 0.3347\n",
            "Epoch 29/100\n",
            "43/55 [======================>.......] - ETA: 0s - loss: 1.6242 - accuracy: 0.3234\n",
            "Epoch 29: val_loss improved from 1.62173 to 1.62115, saving model to saved_models/audio_classification.hdf5\n",
            "55/55 [==============================] - 0s 6ms/step - loss: 1.6335 - accuracy: 0.3246 - val_loss: 1.6211 - val_accuracy: 0.3347\n",
            "Epoch 30/100\n",
            "43/55 [======================>.......] - ETA: 0s - loss: 1.6363 - accuracy: 0.3299\n",
            "Epoch 30: val_loss improved from 1.62115 to 1.62066, saving model to saved_models/audio_classification.hdf5\n",
            "55/55 [==============================] - 0s 6ms/step - loss: 1.6339 - accuracy: 0.3274 - val_loss: 1.6207 - val_accuracy: 0.3347\n",
            "Epoch 31/100\n",
            "46/55 [========================>.....] - ETA: 0s - loss: 1.6283 - accuracy: 0.3295\n",
            "Epoch 31: val_loss improved from 1.62066 to 1.62020, saving model to saved_models/audio_classification.hdf5\n",
            "55/55 [==============================] - 0s 5ms/step - loss: 1.6267 - accuracy: 0.3223 - val_loss: 1.6202 - val_accuracy: 0.3347\n",
            "Epoch 32/100\n",
            "47/55 [========================>.....] - ETA: 0s - loss: 1.6235 - accuracy: 0.3172\n",
            "Epoch 32: val_loss improved from 1.62020 to 1.61981, saving model to saved_models/audio_classification.hdf5\n",
            "55/55 [==============================] - 0s 5ms/step - loss: 1.6256 - accuracy: 0.3228 - val_loss: 1.6198 - val_accuracy: 0.3347\n",
            "Epoch 33/100\n",
            "47/55 [========================>.....] - ETA: 0s - loss: 1.6304 - accuracy: 0.3258\n",
            "Epoch 33: val_loss improved from 1.61981 to 1.61959, saving model to saved_models/audio_classification.hdf5\n",
            "55/55 [==============================] - 0s 5ms/step - loss: 1.6279 - accuracy: 0.3228 - val_loss: 1.6196 - val_accuracy: 0.3347\n",
            "Epoch 34/100\n",
            "42/55 [=====================>........] - ETA: 0s - loss: 1.6287 - accuracy: 0.3274\n",
            "Epoch 34: val_loss improved from 1.61959 to 1.61928, saving model to saved_models/audio_classification.hdf5\n",
            "55/55 [==============================] - 0s 6ms/step - loss: 1.6228 - accuracy: 0.3268 - val_loss: 1.6193 - val_accuracy: 0.3347\n",
            "Epoch 35/100\n",
            "44/55 [=======================>......] - ETA: 0s - loss: 1.6173 - accuracy: 0.3366\n",
            "Epoch 35: val_loss improved from 1.61928 to 1.61904, saving model to saved_models/audio_classification.hdf5\n",
            "55/55 [==============================] - 0s 5ms/step - loss: 1.6216 - accuracy: 0.3268 - val_loss: 1.6190 - val_accuracy: 0.3347\n",
            "Epoch 36/100\n",
            "48/55 [=========================>....] - ETA: 0s - loss: 1.6334 - accuracy: 0.3216\n",
            "Epoch 36: val_loss improved from 1.61904 to 1.61897, saving model to saved_models/audio_classification.hdf5\n",
            "55/55 [==============================] - 0s 6ms/step - loss: 1.6256 - accuracy: 0.3228 - val_loss: 1.6190 - val_accuracy: 0.3347\n",
            "Epoch 37/100\n",
            "53/55 [===========================>..] - ETA: 0s - loss: 1.6178 - accuracy: 0.3267\n",
            "Epoch 37: val_loss improved from 1.61897 to 1.61876, saving model to saved_models/audio_classification.hdf5\n",
            "55/55 [==============================] - 0s 6ms/step - loss: 1.6216 - accuracy: 0.3228 - val_loss: 1.6188 - val_accuracy: 0.3347\n",
            "Epoch 38/100\n",
            "48/55 [=========================>....] - ETA: 0s - loss: 1.6280 - accuracy: 0.3229\n",
            "Epoch 38: val_loss improved from 1.61876 to 1.61870, saving model to saved_models/audio_classification.hdf5\n",
            "55/55 [==============================] - 0s 6ms/step - loss: 1.6304 - accuracy: 0.3246 - val_loss: 1.6187 - val_accuracy: 0.3347\n",
            "Epoch 39/100\n",
            "52/55 [===========================>..] - ETA: 0s - loss: 1.6174 - accuracy: 0.3293\n",
            "Epoch 39: val_loss improved from 1.61870 to 1.61862, saving model to saved_models/audio_classification.hdf5\n",
            "55/55 [==============================] - 1s 10ms/step - loss: 1.6174 - accuracy: 0.3280 - val_loss: 1.6186 - val_accuracy: 0.3347\n",
            "Epoch 40/100\n",
            "49/55 [=========================>....] - ETA: 0s - loss: 1.6201 - accuracy: 0.3208\n",
            "Epoch 40: val_loss improved from 1.61862 to 1.61862, saving model to saved_models/audio_classification.hdf5\n",
            "55/55 [==============================] - 1s 11ms/step - loss: 1.6213 - accuracy: 0.3240 - val_loss: 1.6186 - val_accuracy: 0.3347\n",
            "Epoch 41/100\n",
            "46/55 [========================>.....] - ETA: 0s - loss: 1.6207 - accuracy: 0.3193\n",
            "Epoch 41: val_loss improved from 1.61862 to 1.61838, saving model to saved_models/audio_classification.hdf5\n",
            "55/55 [==============================] - 0s 8ms/step - loss: 1.6209 - accuracy: 0.3268 - val_loss: 1.6184 - val_accuracy: 0.3347\n",
            "Epoch 42/100\n",
            "43/55 [======================>.......] - ETA: 0s - loss: 1.6174 - accuracy: 0.3263\n",
            "Epoch 42: val_loss improved from 1.61838 to 1.61831, saving model to saved_models/audio_classification.hdf5\n",
            "55/55 [==============================] - 0s 6ms/step - loss: 1.6189 - accuracy: 0.3251 - val_loss: 1.6183 - val_accuracy: 0.3347\n",
            "Epoch 43/100\n",
            "49/55 [=========================>....] - ETA: 0s - loss: 1.6215 - accuracy: 0.3240\n",
            "Epoch 43: val_loss improved from 1.61831 to 1.61815, saving model to saved_models/audio_classification.hdf5\n",
            "55/55 [==============================] - 0s 6ms/step - loss: 1.6203 - accuracy: 0.3280 - val_loss: 1.6181 - val_accuracy: 0.3347\n",
            "Epoch 44/100\n",
            "42/55 [=====================>........] - ETA: 0s - loss: 1.6316 - accuracy: 0.3177\n",
            "Epoch 44: val_loss did not improve from 1.61815\n",
            "55/55 [==============================] - 0s 5ms/step - loss: 1.6185 - accuracy: 0.3257 - val_loss: 1.6183 - val_accuracy: 0.3347\n",
            "Epoch 45/100\n",
            "46/55 [========================>.....] - ETA: 0s - loss: 1.6264 - accuracy: 0.3315\n",
            "Epoch 45: val_loss did not improve from 1.61815\n",
            "55/55 [==============================] - 0s 5ms/step - loss: 1.6196 - accuracy: 0.3297 - val_loss: 1.6182 - val_accuracy: 0.3347\n",
            "Epoch 46/100\n",
            "47/55 [========================>.....] - ETA: 0s - loss: 1.6174 - accuracy: 0.3231\n",
            "Epoch 46: val_loss improved from 1.61815 to 1.61791, saving model to saved_models/audio_classification.hdf5\n",
            "55/55 [==============================] - 0s 5ms/step - loss: 1.6173 - accuracy: 0.3268 - val_loss: 1.6179 - val_accuracy: 0.3347\n",
            "Epoch 47/100\n",
            "46/55 [========================>.....] - ETA: 0s - loss: 1.6287 - accuracy: 0.3166\n",
            "Epoch 47: val_loss did not improve from 1.61791\n",
            "55/55 [==============================] - 0s 5ms/step - loss: 1.6190 - accuracy: 0.3280 - val_loss: 1.6181 - val_accuracy: 0.3347\n",
            "Epoch 48/100\n",
            "55/55 [==============================] - ETA: 0s - loss: 1.6222 - accuracy: 0.3251\n",
            "Epoch 48: val_loss did not improve from 1.61791\n",
            "55/55 [==============================] - 0s 5ms/step - loss: 1.6222 - accuracy: 0.3251 - val_loss: 1.6183 - val_accuracy: 0.3347\n",
            "Epoch 49/100\n",
            "48/55 [=========================>....] - ETA: 0s - loss: 1.6132 - accuracy: 0.3294\n",
            "Epoch 49: val_loss improved from 1.61791 to 1.61720, saving model to saved_models/audio_classification.hdf5\n",
            "55/55 [==============================] - 0s 5ms/step - loss: 1.6152 - accuracy: 0.3274 - val_loss: 1.6172 - val_accuracy: 0.3347\n",
            "Epoch 50/100\n",
            "44/55 [=======================>......] - ETA: 0s - loss: 1.6183 - accuracy: 0.3182\n",
            "Epoch 50: val_loss did not improve from 1.61720\n",
            "55/55 [==============================] - 0s 5ms/step - loss: 1.6173 - accuracy: 0.3246 - val_loss: 1.6179 - val_accuracy: 0.3347\n",
            "Epoch 51/100\n",
            "46/55 [========================>.....] - ETA: 0s - loss: 1.6203 - accuracy: 0.3268\n",
            "Epoch 51: val_loss improved from 1.61720 to 1.61698, saving model to saved_models/audio_classification.hdf5\n",
            "55/55 [==============================] - 0s 5ms/step - loss: 1.6248 - accuracy: 0.3251 - val_loss: 1.6170 - val_accuracy: 0.3347\n",
            "Epoch 52/100\n",
            "50/55 [==========================>...] - ETA: 0s - loss: 1.6159 - accuracy: 0.3281\n",
            "Epoch 52: val_loss improved from 1.61698 to 1.61602, saving model to saved_models/audio_classification.hdf5\n",
            "55/55 [==============================] - 0s 5ms/step - loss: 1.6226 - accuracy: 0.3240 - val_loss: 1.6160 - val_accuracy: 0.3347\n",
            "Epoch 53/100\n",
            "43/55 [======================>.......] - ETA: 0s - loss: 1.6297 - accuracy: 0.3198\n",
            "Epoch 53: val_loss did not improve from 1.61602\n",
            "55/55 [==============================] - 0s 5ms/step - loss: 1.6206 - accuracy: 0.3268 - val_loss: 1.6166 - val_accuracy: 0.3347\n",
            "Epoch 54/100\n",
            "54/55 [============================>.] - ETA: 0s - loss: 1.6195 - accuracy: 0.3235\n",
            "Epoch 54: val_loss improved from 1.61602 to 1.61390, saving model to saved_models/audio_classification.hdf5\n",
            "55/55 [==============================] - 0s 6ms/step - loss: 1.6180 - accuracy: 0.3257 - val_loss: 1.6139 - val_accuracy: 0.3347\n",
            "Epoch 55/100\n",
            "53/55 [===========================>..] - ETA: 0s - loss: 1.6193 - accuracy: 0.3243\n",
            "Epoch 55: val_loss did not improve from 1.61390\n",
            "55/55 [==============================] - 0s 6ms/step - loss: 1.6206 - accuracy: 0.3251 - val_loss: 1.6158 - val_accuracy: 0.3347\n",
            "Epoch 56/100\n",
            "51/55 [==========================>...] - ETA: 0s - loss: 1.6265 - accuracy: 0.3229\n",
            "Epoch 56: val_loss did not improve from 1.61390\n",
            "55/55 [==============================] - 0s 6ms/step - loss: 1.6174 - accuracy: 0.3268 - val_loss: 1.6140 - val_accuracy: 0.3347\n",
            "Epoch 57/100\n",
            "53/55 [===========================>..] - ETA: 0s - loss: 1.6150 - accuracy: 0.3272\n",
            "Epoch 57: val_loss did not improve from 1.61390\n",
            "55/55 [==============================] - 0s 5ms/step - loss: 1.6145 - accuracy: 0.3268 - val_loss: 1.6146 - val_accuracy: 0.3347\n",
            "Epoch 58/100\n",
            "48/55 [=========================>....] - ETA: 0s - loss: 1.6224 - accuracy: 0.3223\n",
            "Epoch 58: val_loss did not improve from 1.61390\n",
            "55/55 [==============================] - 0s 6ms/step - loss: 1.6220 - accuracy: 0.3223 - val_loss: 1.6140 - val_accuracy: 0.3347\n",
            "Epoch 59/100\n",
            "53/55 [===========================>..] - ETA: 0s - loss: 1.6192 - accuracy: 0.3255\n",
            "Epoch 59: val_loss improved from 1.61390 to 1.61334, saving model to saved_models/audio_classification.hdf5\n",
            "55/55 [==============================] - 0s 6ms/step - loss: 1.6159 - accuracy: 0.3268 - val_loss: 1.6133 - val_accuracy: 0.3347\n",
            "Epoch 60/100\n",
            "51/55 [==========================>...] - ETA: 0s - loss: 1.6160 - accuracy: 0.3260\n",
            "Epoch 60: val_loss improved from 1.61334 to 1.61110, saving model to saved_models/audio_classification.hdf5\n",
            "55/55 [==============================] - 0s 6ms/step - loss: 1.6148 - accuracy: 0.3280 - val_loss: 1.6111 - val_accuracy: 0.3347\n",
            "Epoch 61/100\n",
            "45/55 [=======================>......] - ETA: 0s - loss: 1.6219 - accuracy: 0.3313\n",
            "Epoch 61: val_loss did not improve from 1.61110\n",
            "55/55 [==============================] - 0s 5ms/step - loss: 1.6148 - accuracy: 0.3286 - val_loss: 1.6131 - val_accuracy: 0.3347\n",
            "Epoch 62/100\n",
            "54/55 [============================>.] - ETA: 0s - loss: 1.6155 - accuracy: 0.3258\n",
            "Epoch 62: val_loss improved from 1.61110 to 1.60508, saving model to saved_models/audio_classification.hdf5\n",
            "55/55 [==============================] - 0s 6ms/step - loss: 1.6164 - accuracy: 0.3251 - val_loss: 1.6051 - val_accuracy: 0.3347\n",
            "Epoch 63/100\n",
            "44/55 [=======================>......] - ETA: 0s - loss: 1.6228 - accuracy: 0.3217\n",
            "Epoch 63: val_loss did not improve from 1.60508\n",
            "55/55 [==============================] - 0s 5ms/step - loss: 1.6191 - accuracy: 0.3257 - val_loss: 1.6120 - val_accuracy: 0.3347\n",
            "Epoch 64/100\n",
            "47/55 [========================>.....] - ETA: 0s - loss: 1.6141 - accuracy: 0.3298\n",
            "Epoch 64: val_loss did not improve from 1.60508\n",
            "55/55 [==============================] - 0s 4ms/step - loss: 1.6107 - accuracy: 0.3291 - val_loss: 1.6089 - val_accuracy: 0.3347\n",
            "Epoch 65/100\n",
            "45/55 [=======================>......] - ETA: 0s - loss: 1.6080 - accuracy: 0.3215\n",
            "Epoch 65: val_loss did not improve from 1.60508\n",
            "55/55 [==============================] - 0s 5ms/step - loss: 1.6122 - accuracy: 0.3274 - val_loss: 1.6078 - val_accuracy: 0.3347\n",
            "Epoch 66/100\n",
            "48/55 [=========================>....] - ETA: 0s - loss: 1.6205 - accuracy: 0.3177\n",
            "Epoch 66: val_loss did not improve from 1.60508\n",
            "55/55 [==============================] - 0s 5ms/step - loss: 1.6160 - accuracy: 0.3251 - val_loss: 1.6092 - val_accuracy: 0.3347\n",
            "Epoch 67/100\n",
            "44/55 [=======================>......] - ETA: 0s - loss: 1.6232 - accuracy: 0.3203\n",
            "Epoch 67: val_loss improved from 1.60508 to 1.59929, saving model to saved_models/audio_classification.hdf5\n",
            "55/55 [==============================] - 0s 5ms/step - loss: 1.6065 - accuracy: 0.3263 - val_loss: 1.5993 - val_accuracy: 0.3347\n",
            "Epoch 68/100\n",
            "41/55 [=====================>........] - ETA: 0s - loss: 1.6090 - accuracy: 0.3186\n",
            "Epoch 68: val_loss did not improve from 1.59929\n",
            "55/55 [==============================] - 0s 5ms/step - loss: 1.6145 - accuracy: 0.3211 - val_loss: 1.6065 - val_accuracy: 0.3347\n",
            "Epoch 69/100\n",
            "52/55 [===========================>..] - ETA: 0s - loss: 1.6127 - accuracy: 0.3179\n",
            "Epoch 69: val_loss did not improve from 1.59929\n",
            "55/55 [==============================] - 0s 5ms/step - loss: 1.6090 - accuracy: 0.3234 - val_loss: 1.6063 - val_accuracy: 0.3347\n",
            "Epoch 70/100\n",
            "55/55 [==============================] - ETA: 0s - loss: 1.6066 - accuracy: 0.3223\n",
            "Epoch 70: val_loss improved from 1.59929 to 1.59775, saving model to saved_models/audio_classification.hdf5\n",
            "55/55 [==============================] - 0s 6ms/step - loss: 1.6066 - accuracy: 0.3223 - val_loss: 1.5978 - val_accuracy: 0.3347\n",
            "Epoch 71/100\n",
            "47/55 [========================>.....] - ETA: 0s - loss: 1.6063 - accuracy: 0.3165\n",
            "Epoch 71: val_loss did not improve from 1.59775\n",
            "55/55 [==============================] - 0s 4ms/step - loss: 1.6070 - accuracy: 0.3194 - val_loss: 1.6020 - val_accuracy: 0.3347\n",
            "Epoch 72/100\n",
            "52/55 [===========================>..] - ETA: 0s - loss: 1.6136 - accuracy: 0.3227\n",
            "Epoch 72: val_loss improved from 1.59775 to 1.59769, saving model to saved_models/audio_classification.hdf5\n",
            "55/55 [==============================] - 0s 6ms/step - loss: 1.6127 - accuracy: 0.3234 - val_loss: 1.5977 - val_accuracy: 0.3347\n",
            "Epoch 73/100\n",
            "43/55 [======================>.......] - ETA: 0s - loss: 1.6097 - accuracy: 0.3190\n",
            "Epoch 73: val_loss improved from 1.59769 to 1.58953, saving model to saved_models/audio_classification.hdf5\n",
            "55/55 [==============================] - 0s 5ms/step - loss: 1.6006 - accuracy: 0.3291 - val_loss: 1.5895 - val_accuracy: 0.3347\n",
            "Epoch 74/100\n",
            "53/55 [===========================>..] - ETA: 0s - loss: 1.5953 - accuracy: 0.3272\n",
            "Epoch 74: val_loss did not improve from 1.58953\n",
            "55/55 [==============================] - 0s 5ms/step - loss: 1.5984 - accuracy: 0.3257 - val_loss: 1.5922 - val_accuracy: 0.3347\n",
            "Epoch 75/100\n",
            "49/55 [=========================>....] - ETA: 0s - loss: 1.6037 - accuracy: 0.3208\n",
            "Epoch 75: val_loss improved from 1.58953 to 1.58714, saving model to saved_models/audio_classification.hdf5\n",
            "55/55 [==============================] - 0s 7ms/step - loss: 1.5984 - accuracy: 0.3274 - val_loss: 1.5871 - val_accuracy: 0.3347\n",
            "Epoch 76/100\n",
            "51/55 [==========================>...] - ETA: 0s - loss: 1.6055 - accuracy: 0.3229\n",
            "Epoch 76: val_loss improved from 1.58714 to 1.58619, saving model to saved_models/audio_classification.hdf5\n",
            "55/55 [==============================] - 1s 11ms/step - loss: 1.6054 - accuracy: 0.3268 - val_loss: 1.5862 - val_accuracy: 0.3347\n",
            "Epoch 77/100\n",
            "49/55 [=========================>....] - ETA: 0s - loss: 1.5857 - accuracy: 0.3265\n",
            "Epoch 77: val_loss improved from 1.58619 to 1.58198, saving model to saved_models/audio_classification.hdf5\n",
            "55/55 [==============================] - 1s 10ms/step - loss: 1.5925 - accuracy: 0.3251 - val_loss: 1.5820 - val_accuracy: 0.3347\n",
            "Epoch 78/100\n",
            "50/55 [==========================>...] - ETA: 0s - loss: 1.5867 - accuracy: 0.3294\n",
            "Epoch 78: val_loss improved from 1.58198 to 1.58005, saving model to saved_models/audio_classification.hdf5\n",
            "55/55 [==============================] - 1s 10ms/step - loss: 1.5859 - accuracy: 0.3297 - val_loss: 1.5801 - val_accuracy: 0.3347\n",
            "Epoch 79/100\n",
            "55/55 [==============================] - ETA: 0s - loss: 1.5898 - accuracy: 0.3263\n",
            "Epoch 79: val_loss did not improve from 1.58005\n",
            "55/55 [==============================] - 0s 5ms/step - loss: 1.5898 - accuracy: 0.3263 - val_loss: 1.5831 - val_accuracy: 0.3280\n",
            "Epoch 80/100\n",
            "44/55 [=======================>......] - ETA: 0s - loss: 1.5948 - accuracy: 0.3253\n",
            "Epoch 80: val_loss improved from 1.58005 to 1.57710, saving model to saved_models/audio_classification.hdf5\n",
            "55/55 [==============================] - 0s 5ms/step - loss: 1.5972 - accuracy: 0.3211 - val_loss: 1.5771 - val_accuracy: 0.3360\n",
            "Epoch 81/100\n",
            "44/55 [=======================>......] - ETA: 0s - loss: 1.6024 - accuracy: 0.3224\n",
            "Epoch 81: val_loss did not improve from 1.57710\n",
            "55/55 [==============================] - 0s 5ms/step - loss: 1.5977 - accuracy: 0.3257 - val_loss: 1.5808 - val_accuracy: 0.3187\n",
            "Epoch 82/100\n",
            "44/55 [=======================>......] - ETA: 0s - loss: 1.5900 - accuracy: 0.3125\n",
            "Epoch 82: val_loss improved from 1.57710 to 1.57492, saving model to saved_models/audio_classification.hdf5\n",
            "55/55 [==============================] - 0s 6ms/step - loss: 1.5887 - accuracy: 0.3194 - val_loss: 1.5749 - val_accuracy: 0.3333\n",
            "Epoch 83/100\n",
            "50/55 [==========================>...] - ETA: 0s - loss: 1.5878 - accuracy: 0.3237\n",
            "Epoch 83: val_loss improved from 1.57492 to 1.57359, saving model to saved_models/audio_classification.hdf5\n",
            "55/55 [==============================] - 0s 6ms/step - loss: 1.5848 - accuracy: 0.3246 - val_loss: 1.5736 - val_accuracy: 0.3347\n",
            "Epoch 84/100\n",
            "55/55 [==============================] - ETA: 0s - loss: 1.5751 - accuracy: 0.3440\n",
            "Epoch 84: val_loss improved from 1.57359 to 1.56940, saving model to saved_models/audio_classification.hdf5\n",
            "55/55 [==============================] - 0s 6ms/step - loss: 1.5751 - accuracy: 0.3440 - val_loss: 1.5694 - val_accuracy: 0.3707\n",
            "Epoch 85/100\n",
            "46/55 [========================>.....] - ETA: 0s - loss: 1.5826 - accuracy: 0.3390\n",
            "Epoch 85: val_loss did not improve from 1.56940\n",
            "55/55 [==============================] - 0s 6ms/step - loss: 1.5813 - accuracy: 0.3412 - val_loss: 1.5756 - val_accuracy: 0.4013\n",
            "Epoch 86/100\n",
            "43/55 [======================>.......] - ETA: 0s - loss: 1.5719 - accuracy: 0.3314\n",
            "Epoch 86: val_loss did not improve from 1.56940\n",
            "55/55 [==============================] - 0s 6ms/step - loss: 1.5801 - accuracy: 0.3314 - val_loss: 1.5774 - val_accuracy: 0.4067\n",
            "Epoch 87/100\n",
            "48/55 [=========================>....] - ETA: 0s - loss: 1.5702 - accuracy: 0.3477\n",
            "Epoch 87: val_loss improved from 1.56940 to 1.56792, saving model to saved_models/audio_classification.hdf5\n",
            "55/55 [==============================] - 0s 6ms/step - loss: 1.5732 - accuracy: 0.3475 - val_loss: 1.5679 - val_accuracy: 0.3987\n",
            "Epoch 88/100\n",
            "50/55 [==========================>...] - ETA: 0s - loss: 1.5706 - accuracy: 0.3500\n",
            "Epoch 88: val_loss did not improve from 1.56792\n",
            "55/55 [==============================] - 0s 6ms/step - loss: 1.5700 - accuracy: 0.3520 - val_loss: 1.5684 - val_accuracy: 0.4040\n",
            "Epoch 89/100\n",
            "46/55 [========================>.....] - ETA: 0s - loss: 1.5714 - accuracy: 0.3329\n",
            "Epoch 89: val_loss improved from 1.56792 to 1.56505, saving model to saved_models/audio_classification.hdf5\n",
            "55/55 [==============================] - 0s 7ms/step - loss: 1.5769 - accuracy: 0.3366 - val_loss: 1.5650 - val_accuracy: 0.4053\n",
            "Epoch 90/100\n",
            "50/55 [==========================>...] - ETA: 0s - loss: 1.5715 - accuracy: 0.3487\n",
            "Epoch 90: val_loss improved from 1.56505 to 1.56319, saving model to saved_models/audio_classification.hdf5\n",
            "55/55 [==============================] - 0s 6ms/step - loss: 1.5741 - accuracy: 0.3486 - val_loss: 1.5632 - val_accuracy: 0.3867\n",
            "Epoch 91/100\n",
            "54/55 [============================>.] - ETA: 0s - loss: 1.5806 - accuracy: 0.3368\n",
            "Epoch 91: val_loss did not improve from 1.56319\n",
            "55/55 [==============================] - 0s 5ms/step - loss: 1.5815 - accuracy: 0.3354 - val_loss: 1.5642 - val_accuracy: 0.3973\n",
            "Epoch 92/100\n",
            "54/55 [============================>.] - ETA: 0s - loss: 1.5625 - accuracy: 0.3611\n",
            "Epoch 92: val_loss improved from 1.56319 to 1.55981, saving model to saved_models/audio_classification.hdf5\n",
            "55/55 [==============================] - 0s 6ms/step - loss: 1.5652 - accuracy: 0.3606 - val_loss: 1.5598 - val_accuracy: 0.3893\n",
            "Epoch 93/100\n",
            "42/55 [=====================>........] - ETA: 0s - loss: 1.5708 - accuracy: 0.3653\n",
            "Epoch 93: val_loss did not improve from 1.55981\n",
            "55/55 [==============================] - 0s 5ms/step - loss: 1.5677 - accuracy: 0.3612 - val_loss: 1.5668 - val_accuracy: 0.4000\n",
            "Epoch 94/100\n",
            "55/55 [==============================] - ETA: 0s - loss: 1.5730 - accuracy: 0.3377\n",
            "Epoch 94: val_loss did not improve from 1.55981\n",
            "55/55 [==============================] - 0s 5ms/step - loss: 1.5730 - accuracy: 0.3377 - val_loss: 1.5656 - val_accuracy: 0.3773\n",
            "Epoch 95/100\n",
            "54/55 [============================>.] - ETA: 0s - loss: 1.5719 - accuracy: 0.3547\n",
            "Epoch 95: val_loss did not improve from 1.55981\n",
            "55/55 [==============================] - 0s 5ms/step - loss: 1.5756 - accuracy: 0.3532 - val_loss: 1.5605 - val_accuracy: 0.3867\n",
            "Epoch 96/100\n",
            "42/55 [=====================>........] - ETA: 0s - loss: 1.5715 - accuracy: 0.3705\n",
            "Epoch 96: val_loss did not improve from 1.55981\n",
            "55/55 [==============================] - 0s 5ms/step - loss: 1.5713 - accuracy: 0.3652 - val_loss: 1.5624 - val_accuracy: 0.4040\n",
            "Epoch 97/100\n",
            "52/55 [===========================>..] - ETA: 0s - loss: 1.5642 - accuracy: 0.3528\n",
            "Epoch 97: val_loss improved from 1.55981 to 1.55679, saving model to saved_models/audio_classification.hdf5\n",
            "55/55 [==============================] - 0s 6ms/step - loss: 1.5588 - accuracy: 0.3543 - val_loss: 1.5568 - val_accuracy: 0.4133\n",
            "Epoch 98/100\n",
            "46/55 [========================>.....] - ETA: 0s - loss: 1.5647 - accuracy: 0.3573\n",
            "Epoch 98: val_loss did not improve from 1.55679\n",
            "55/55 [==============================] - 0s 6ms/step - loss: 1.5628 - accuracy: 0.3520 - val_loss: 1.5612 - val_accuracy: 0.4293\n",
            "Epoch 99/100\n",
            "49/55 [=========================>....] - ETA: 0s - loss: 1.5551 - accuracy: 0.3705\n",
            "Epoch 99: val_loss did not improve from 1.55679\n",
            "55/55 [==============================] - 0s 6ms/step - loss: 1.5542 - accuracy: 0.3646 - val_loss: 1.5654 - val_accuracy: 0.3933\n",
            "Epoch 100/100\n",
            "47/55 [========================>.....] - ETA: 0s - loss: 1.5582 - accuracy: 0.3590\n",
            "Epoch 100: val_loss did not improve from 1.55679\n",
            "55/55 [==============================] - 0s 6ms/step - loss: 1.5613 - accuracy: 0.3612 - val_loss: 1.5592 - val_accuracy: 0.4053\n"
          ]
        }
      ]
    },
    {
      "cell_type": "code",
      "source": [
        "num_epochs = 100\n",
        "num_batch_size = 32\n",
        "\n",
        "checkpointer = ModelCheckpoint(filepath='saved_models/audio_classification.hdf5',verbose=1, save_best_only = True)\n",
        "\n",
        "start = datetime.now()\n",
        "\n",
        "model.fit(X_train, y_train, batch_size = num_batch_size, epochs = num_epochs, validation_data=(X_val,y_val),callbacks=[checkpointer])\n",
        "\n",
        "duration = datetime.now() - start\n"
      ],
      "metadata": {
        "colab": {
          "base_uri": "https://localhost:8080/"
        },
        "id": "ceO1-D9nR9LR",
        "outputId": "126d9ec3-69cd-4f09-a04e-1d527a49c530"
      },
      "execution_count": null,
      "outputs": [
        {
          "output_type": "stream",
          "name": "stdout",
          "text": [
            "Epoch 1/100\n",
            "44/55 [=======================>......] - ETA: 0s - loss: 1.2659 - accuracy: 0.5021\n",
            "Epoch 1: val_loss improved from inf to 1.46521, saving model to saved_models/audio_classification.hdf5\n",
            "55/55 [==============================] - 0s 6ms/step - loss: 1.2490 - accuracy: 0.5066 - val_loss: 1.4652 - val_accuracy: 0.4333\n",
            "Epoch 2/100\n",
            "52/55 [===========================>..] - ETA: 0s - loss: 1.2633 - accuracy: 0.4952\n",
            "Epoch 2: val_loss did not improve from 1.46521\n",
            "55/55 [==============================] - 0s 7ms/step - loss: 1.2632 - accuracy: 0.4963 - val_loss: 1.4946 - val_accuracy: 0.4413\n",
            "Epoch 3/100\n",
            "48/55 [=========================>....] - ETA: 0s - loss: 1.2561 - accuracy: 0.5130\n",
            "Epoch 3: val_loss did not improve from 1.46521\n",
            "55/55 [==============================] - 0s 6ms/step - loss: 1.2575 - accuracy: 0.5140 - val_loss: 1.4666 - val_accuracy: 0.4320\n",
            "Epoch 4/100\n",
            "53/55 [===========================>..] - ETA: 0s - loss: 1.2261 - accuracy: 0.4976\n",
            "Epoch 4: val_loss did not improve from 1.46521\n",
            "55/55 [==============================] - 0s 5ms/step - loss: 1.2261 - accuracy: 0.4980 - val_loss: 1.4954 - val_accuracy: 0.4360\n",
            "Epoch 5/100\n",
            "50/55 [==========================>...] - ETA: 0s - loss: 1.2274 - accuracy: 0.4950\n",
            "Epoch 5: val_loss did not improve from 1.46521\n",
            "55/55 [==============================] - 0s 5ms/step - loss: 1.2370 - accuracy: 0.4906 - val_loss: 1.4803 - val_accuracy: 0.4360\n",
            "Epoch 6/100\n",
            "42/55 [=====================>........] - ETA: 0s - loss: 1.2379 - accuracy: 0.5030\n",
            "Epoch 6: val_loss did not improve from 1.46521\n",
            "55/55 [==============================] - 0s 5ms/step - loss: 1.2338 - accuracy: 0.5083 - val_loss: 1.4716 - val_accuracy: 0.4560\n",
            "Epoch 7/100\n",
            "54/55 [============================>.] - ETA: 0s - loss: 1.2520 - accuracy: 0.5081\n",
            "Epoch 7: val_loss improved from 1.46521 to 1.45999, saving model to saved_models/audio_classification.hdf5\n",
            "55/55 [==============================] - 0s 6ms/step - loss: 1.2532 - accuracy: 0.5083 - val_loss: 1.4600 - val_accuracy: 0.4507\n",
            "Epoch 8/100\n",
            "51/55 [==========================>...] - ETA: 0s - loss: 1.2524 - accuracy: 0.4982\n",
            "Epoch 8: val_loss did not improve from 1.45999\n",
            "55/55 [==============================] - 0s 6ms/step - loss: 1.2525 - accuracy: 0.4980 - val_loss: 1.4854 - val_accuracy: 0.4547\n",
            "Epoch 9/100\n",
            "50/55 [==========================>...] - ETA: 0s - loss: 1.2675 - accuracy: 0.4963\n",
            "Epoch 9: val_loss improved from 1.45999 to 1.45324, saving model to saved_models/audio_classification.hdf5\n",
            "55/55 [==============================] - 0s 6ms/step - loss: 1.2538 - accuracy: 0.4991 - val_loss: 1.4532 - val_accuracy: 0.4373\n",
            "Epoch 10/100\n",
            "54/55 [============================>.] - ETA: 0s - loss: 1.2437 - accuracy: 0.5075\n",
            "Epoch 10: val_loss did not improve from 1.45324\n",
            "55/55 [==============================] - 0s 6ms/step - loss: 1.2404 - accuracy: 0.5089 - val_loss: 1.4654 - val_accuracy: 0.4293\n",
            "Epoch 11/100\n",
            "52/55 [===========================>..] - ETA: 0s - loss: 1.2346 - accuracy: 0.5012\n",
            "Epoch 11: val_loss did not improve from 1.45324\n",
            "55/55 [==============================] - 0s 6ms/step - loss: 1.2370 - accuracy: 0.4997 - val_loss: 1.4771 - val_accuracy: 0.4480\n",
            "Epoch 12/100\n",
            "55/55 [==============================] - ETA: 0s - loss: 1.2472 - accuracy: 0.5020\n",
            "Epoch 12: val_loss did not improve from 1.45324\n",
            "55/55 [==============================] - 0s 6ms/step - loss: 1.2472 - accuracy: 0.5020 - val_loss: 1.4704 - val_accuracy: 0.4227\n",
            "Epoch 13/100\n",
            "50/55 [==========================>...] - ETA: 0s - loss: 1.2507 - accuracy: 0.4963\n",
            "Epoch 13: val_loss did not improve from 1.45324\n",
            "55/55 [==============================] - 0s 6ms/step - loss: 1.2494 - accuracy: 0.4957 - val_loss: 1.4901 - val_accuracy: 0.4387\n",
            "Epoch 14/100\n",
            "52/55 [===========================>..] - ETA: 0s - loss: 1.2361 - accuracy: 0.5060\n",
            "Epoch 14: val_loss did not improve from 1.45324\n",
            "55/55 [==============================] - 0s 6ms/step - loss: 1.2316 - accuracy: 0.5106 - val_loss: 1.4855 - val_accuracy: 0.4413\n",
            "Epoch 15/100\n",
            "50/55 [==========================>...] - ETA: 0s - loss: 1.2435 - accuracy: 0.5169\n",
            "Epoch 15: val_loss did not improve from 1.45324\n",
            "55/55 [==============================] - 0s 6ms/step - loss: 1.2422 - accuracy: 0.5112 - val_loss: 1.4679 - val_accuracy: 0.4347\n",
            "Epoch 16/100\n",
            "50/55 [==========================>...] - ETA: 0s - loss: 1.2174 - accuracy: 0.5150\n",
            "Epoch 16: val_loss did not improve from 1.45324\n",
            "55/55 [==============================] - 0s 6ms/step - loss: 1.2227 - accuracy: 0.5129 - val_loss: 1.4831 - val_accuracy: 0.4427\n",
            "Epoch 17/100\n",
            "42/55 [=====================>........] - ETA: 0s - loss: 1.2208 - accuracy: 0.5216\n",
            "Epoch 17: val_loss did not improve from 1.45324\n",
            "55/55 [==============================] - 0s 5ms/step - loss: 1.2240 - accuracy: 0.5175 - val_loss: 1.5230 - val_accuracy: 0.4320\n",
            "Epoch 18/100\n",
            "47/55 [========================>.....] - ETA: 0s - loss: 1.2320 - accuracy: 0.5047\n",
            "Epoch 18: val_loss did not improve from 1.45324\n",
            "55/55 [==============================] - 0s 6ms/step - loss: 1.2278 - accuracy: 0.5060 - val_loss: 1.4955 - val_accuracy: 0.4587\n",
            "Epoch 19/100\n",
            "50/55 [==========================>...] - ETA: 0s - loss: 1.2324 - accuracy: 0.5000\n",
            "Epoch 19: val_loss did not improve from 1.45324\n",
            "55/55 [==============================] - 0s 6ms/step - loss: 1.2247 - accuracy: 0.5037 - val_loss: 1.5069 - val_accuracy: 0.4467\n",
            "Epoch 20/100\n",
            "52/55 [===========================>..] - ETA: 0s - loss: 1.2595 - accuracy: 0.5174\n",
            "Epoch 20: val_loss did not improve from 1.45324\n",
            "55/55 [==============================] - 0s 6ms/step - loss: 1.2534 - accuracy: 0.5238 - val_loss: 1.5227 - val_accuracy: 0.4427\n",
            "Epoch 21/100\n",
            "48/55 [=========================>....] - ETA: 0s - loss: 1.2488 - accuracy: 0.4987\n",
            "Epoch 21: val_loss did not improve from 1.45324\n",
            "55/55 [==============================] - 0s 6ms/step - loss: 1.2604 - accuracy: 0.4957 - val_loss: 1.5122 - val_accuracy: 0.4413\n",
            "Epoch 22/100\n",
            "54/55 [============================>.] - ETA: 0s - loss: 1.2360 - accuracy: 0.5035\n",
            "Epoch 22: val_loss did not improve from 1.45324\n",
            "55/55 [==============================] - 0s 5ms/step - loss: 1.2379 - accuracy: 0.5020 - val_loss: 1.4984 - val_accuracy: 0.4493\n",
            "Epoch 23/100\n",
            "44/55 [=======================>......] - ETA: 0s - loss: 1.2414 - accuracy: 0.5028\n",
            "Epoch 23: val_loss did not improve from 1.45324\n",
            "55/55 [==============================] - 0s 5ms/step - loss: 1.2342 - accuracy: 0.5043 - val_loss: 1.4883 - val_accuracy: 0.4520\n",
            "Epoch 24/100\n",
            "47/55 [========================>.....] - ETA: 0s - loss: 1.2667 - accuracy: 0.4940\n",
            "Epoch 24: val_loss did not improve from 1.45324\n",
            "55/55 [==============================] - 0s 5ms/step - loss: 1.2536 - accuracy: 0.4957 - val_loss: 1.5147 - val_accuracy: 0.4480\n",
            "Epoch 25/100\n",
            "46/55 [========================>.....] - ETA: 0s - loss: 1.2234 - accuracy: 0.5000\n",
            "Epoch 25: val_loss did not improve from 1.45324\n",
            "55/55 [==============================] - 0s 4ms/step - loss: 1.2428 - accuracy: 0.4991 - val_loss: 1.5003 - val_accuracy: 0.4360\n",
            "Epoch 26/100\n",
            "54/55 [============================>.] - ETA: 0s - loss: 1.2493 - accuracy: 0.4988\n",
            "Epoch 26: val_loss did not improve from 1.45324\n",
            "55/55 [==============================] - 1s 19ms/step - loss: 1.2504 - accuracy: 0.4980 - val_loss: 1.5070 - val_accuracy: 0.4360\n",
            "Epoch 27/100\n",
            "55/55 [==============================] - ETA: 0s - loss: 1.2449 - accuracy: 0.5066\n",
            "Epoch 27: val_loss did not improve from 1.45324\n",
            "55/55 [==============================] - 0s 5ms/step - loss: 1.2449 - accuracy: 0.5066 - val_loss: 1.4885 - val_accuracy: 0.4267\n",
            "Epoch 28/100\n",
            "50/55 [==========================>...] - ETA: 0s - loss: 1.2199 - accuracy: 0.5025\n",
            "Epoch 28: val_loss did not improve from 1.45324\n",
            "55/55 [==============================] - 0s 6ms/step - loss: 1.2184 - accuracy: 0.5054 - val_loss: 1.5144 - val_accuracy: 0.4280\n",
            "Epoch 29/100\n",
            "49/55 [=========================>....] - ETA: 0s - loss: 1.2277 - accuracy: 0.5134\n",
            "Epoch 29: val_loss did not improve from 1.45324\n",
            "55/55 [==============================] - 0s 6ms/step - loss: 1.2267 - accuracy: 0.5083 - val_loss: 1.4905 - val_accuracy: 0.4213\n",
            "Epoch 30/100\n",
            "50/55 [==========================>...] - ETA: 0s - loss: 1.2042 - accuracy: 0.5213\n",
            "Epoch 30: val_loss did not improve from 1.45324\n",
            "55/55 [==============================] - 0s 6ms/step - loss: 1.2010 - accuracy: 0.5169 - val_loss: 1.5201 - val_accuracy: 0.4200\n",
            "Epoch 31/100\n",
            "50/55 [==========================>...] - ETA: 0s - loss: 1.2189 - accuracy: 0.4969\n",
            "Epoch 31: val_loss did not improve from 1.45324\n",
            "55/55 [==============================] - 0s 6ms/step - loss: 1.2338 - accuracy: 0.4940 - val_loss: 1.5263 - val_accuracy: 0.4227\n",
            "Epoch 32/100\n",
            "52/55 [===========================>..] - ETA: 0s - loss: 1.2191 - accuracy: 0.5258\n",
            "Epoch 32: val_loss did not improve from 1.45324\n",
            "55/55 [==============================] - 0s 6ms/step - loss: 1.2217 - accuracy: 0.5249 - val_loss: 1.4877 - val_accuracy: 0.4293\n",
            "Epoch 33/100\n",
            "45/55 [=======================>......] - ETA: 0s - loss: 1.2348 - accuracy: 0.5090\n",
            "Epoch 33: val_loss did not improve from 1.45324\n",
            "55/55 [==============================] - 0s 5ms/step - loss: 1.2214 - accuracy: 0.5238 - val_loss: 1.5017 - val_accuracy: 0.4347\n",
            "Epoch 34/100\n",
            "42/55 [=====================>........] - ETA: 0s - loss: 1.2044 - accuracy: 0.5223\n",
            "Epoch 34: val_loss did not improve from 1.45324\n",
            "55/55 [==============================] - 0s 5ms/step - loss: 1.2063 - accuracy: 0.5209 - val_loss: 1.5185 - val_accuracy: 0.4293\n",
            "Epoch 35/100\n",
            "51/55 [==========================>...] - ETA: 0s - loss: 1.2571 - accuracy: 0.5025\n",
            "Epoch 35: val_loss did not improve from 1.45324\n",
            "55/55 [==============================] - 0s 6ms/step - loss: 1.2557 - accuracy: 0.5020 - val_loss: 1.4786 - val_accuracy: 0.4387\n",
            "Epoch 36/100\n",
            "43/55 [======================>.......] - ETA: 0s - loss: 1.2365 - accuracy: 0.5058\n",
            "Epoch 36: val_loss did not improve from 1.45324\n",
            "55/55 [==============================] - 0s 5ms/step - loss: 1.2187 - accuracy: 0.5123 - val_loss: 1.5241 - val_accuracy: 0.4427\n",
            "Epoch 37/100\n",
            "54/55 [============================>.] - ETA: 0s - loss: 1.2234 - accuracy: 0.5069\n",
            "Epoch 37: val_loss did not improve from 1.45324\n",
            "55/55 [==============================] - 0s 5ms/step - loss: 1.2274 - accuracy: 0.5060 - val_loss: 1.5075 - val_accuracy: 0.4427\n",
            "Epoch 38/100\n",
            "55/55 [==============================] - ETA: 0s - loss: 1.2501 - accuracy: 0.5186\n",
            "Epoch 38: val_loss did not improve from 1.45324\n",
            "55/55 [==============================] - 0s 5ms/step - loss: 1.2501 - accuracy: 0.5186 - val_loss: 1.5038 - val_accuracy: 0.4360\n",
            "Epoch 39/100\n",
            "46/55 [========================>.....] - ETA: 0s - loss: 1.2156 - accuracy: 0.5190\n",
            "Epoch 39: val_loss did not improve from 1.45324\n",
            "55/55 [==============================] - 0s 6ms/step - loss: 1.2346 - accuracy: 0.5094 - val_loss: 1.4953 - val_accuracy: 0.4320\n",
            "Epoch 40/100\n",
            "51/55 [==========================>...] - ETA: 0s - loss: 1.2590 - accuracy: 0.4975\n",
            "Epoch 40: val_loss did not improve from 1.45324\n",
            "55/55 [==============================] - 0s 6ms/step - loss: 1.2619 - accuracy: 0.4963 - val_loss: 1.5115 - val_accuracy: 0.4333\n",
            "Epoch 41/100\n",
            "51/55 [==========================>...] - ETA: 0s - loss: 1.2436 - accuracy: 0.5147\n",
            "Epoch 41: val_loss did not improve from 1.45324\n",
            "55/55 [==============================] - 0s 7ms/step - loss: 1.2379 - accuracy: 0.5152 - val_loss: 1.5142 - val_accuracy: 0.4333\n",
            "Epoch 42/100\n",
            "50/55 [==========================>...] - ETA: 0s - loss: 1.2416 - accuracy: 0.5038\n",
            "Epoch 42: val_loss did not improve from 1.45324\n",
            "55/55 [==============================] - 0s 6ms/step - loss: 1.2335 - accuracy: 0.5100 - val_loss: 1.5063 - val_accuracy: 0.4240\n",
            "Epoch 43/100\n",
            "51/55 [==========================>...] - ETA: 0s - loss: 1.2316 - accuracy: 0.5135\n",
            "Epoch 43: val_loss did not improve from 1.45324\n",
            "55/55 [==============================] - 0s 6ms/step - loss: 1.2313 - accuracy: 0.5129 - val_loss: 1.5233 - val_accuracy: 0.4533\n",
            "Epoch 44/100\n",
            "48/55 [=========================>....] - ETA: 0s - loss: 1.2026 - accuracy: 0.5130\n",
            "Epoch 44: val_loss did not improve from 1.45324\n",
            "55/55 [==============================] - 0s 6ms/step - loss: 1.1957 - accuracy: 0.5146 - val_loss: 1.5907 - val_accuracy: 0.4307\n",
            "Epoch 45/100\n",
            "53/55 [===========================>..] - ETA: 0s - loss: 1.2174 - accuracy: 0.5071\n",
            "Epoch 45: val_loss did not improve from 1.45324\n",
            "55/55 [==============================] - 0s 7ms/step - loss: 1.2148 - accuracy: 0.5089 - val_loss: 1.4939 - val_accuracy: 0.4453\n",
            "Epoch 46/100\n",
            "51/55 [==========================>...] - ETA: 0s - loss: 1.2529 - accuracy: 0.4963\n",
            "Epoch 46: val_loss did not improve from 1.45324\n",
            "55/55 [==============================] - 0s 6ms/step - loss: 1.2469 - accuracy: 0.5003 - val_loss: 1.5327 - val_accuracy: 0.4213\n",
            "Epoch 47/100\n",
            "52/55 [===========================>..] - ETA: 0s - loss: 1.1949 - accuracy: 0.5156\n",
            "Epoch 47: val_loss did not improve from 1.45324\n",
            "55/55 [==============================] - 0s 7ms/step - loss: 1.1962 - accuracy: 0.5175 - val_loss: 1.5369 - val_accuracy: 0.4267\n",
            "Epoch 48/100\n",
            "47/55 [========================>.....] - ETA: 0s - loss: 1.2413 - accuracy: 0.5047\n",
            "Epoch 48: val_loss did not improve from 1.45324\n",
            "55/55 [==============================] - 0s 6ms/step - loss: 1.2351 - accuracy: 0.5077 - val_loss: 1.5170 - val_accuracy: 0.4320\n",
            "Epoch 49/100\n",
            "50/55 [==========================>...] - ETA: 0s - loss: 1.2084 - accuracy: 0.5106\n",
            "Epoch 49: val_loss did not improve from 1.45324\n",
            "55/55 [==============================] - 0s 6ms/step - loss: 1.2118 - accuracy: 0.5083 - val_loss: 1.5158 - val_accuracy: 0.4333\n",
            "Epoch 50/100\n",
            "48/55 [=========================>....] - ETA: 0s - loss: 1.2734 - accuracy: 0.4967\n",
            "Epoch 50: val_loss did not improve from 1.45324\n",
            "55/55 [==============================] - 0s 6ms/step - loss: 1.2587 - accuracy: 0.5031 - val_loss: 1.5210 - val_accuracy: 0.4253\n",
            "Epoch 51/100\n",
            "53/55 [===========================>..] - ETA: 0s - loss: 1.2112 - accuracy: 0.5189\n",
            "Epoch 51: val_loss did not improve from 1.45324\n",
            "55/55 [==============================] - 0s 7ms/step - loss: 1.2091 - accuracy: 0.5203 - val_loss: 1.5076 - val_accuracy: 0.4453\n",
            "Epoch 52/100\n",
            "53/55 [===========================>..] - ETA: 0s - loss: 1.2173 - accuracy: 0.5112\n",
            "Epoch 52: val_loss did not improve from 1.45324\n",
            "55/55 [==============================] - 0s 5ms/step - loss: 1.2169 - accuracy: 0.5100 - val_loss: 1.5436 - val_accuracy: 0.4160\n",
            "Epoch 53/100\n",
            "50/55 [==========================>...] - ETA: 0s - loss: 1.2193 - accuracy: 0.5050\n",
            "Epoch 53: val_loss did not improve from 1.45324\n",
            "55/55 [==============================] - 0s 6ms/step - loss: 1.2251 - accuracy: 0.5014 - val_loss: 1.5006 - val_accuracy: 0.4320\n",
            "Epoch 54/100\n",
            "49/55 [=========================>....] - ETA: 0s - loss: 1.2092 - accuracy: 0.5026\n",
            "Epoch 54: val_loss did not improve from 1.45324\n",
            "55/55 [==============================] - 0s 7ms/step - loss: 1.2019 - accuracy: 0.5100 - val_loss: 1.5224 - val_accuracy: 0.4107\n",
            "Epoch 55/100\n",
            "53/55 [===========================>..] - ETA: 0s - loss: 1.2263 - accuracy: 0.5041\n",
            "Epoch 55: val_loss did not improve from 1.45324\n",
            "55/55 [==============================] - 0s 7ms/step - loss: 1.2291 - accuracy: 0.5014 - val_loss: 1.5227 - val_accuracy: 0.4253\n",
            "Epoch 56/100\n",
            "51/55 [==========================>...] - ETA: 0s - loss: 1.1897 - accuracy: 0.5141\n",
            "Epoch 56: val_loss did not improve from 1.45324\n",
            "55/55 [==============================] - 0s 8ms/step - loss: 1.1891 - accuracy: 0.5163 - val_loss: 1.5368 - val_accuracy: 0.4413\n",
            "Epoch 57/100\n",
            "51/55 [==========================>...] - ETA: 0s - loss: 1.2157 - accuracy: 0.5190\n",
            "Epoch 57: val_loss did not improve from 1.45324\n",
            "55/55 [==============================] - 0s 6ms/step - loss: 1.2124 - accuracy: 0.5238 - val_loss: 1.5105 - val_accuracy: 0.4387\n",
            "Epoch 58/100\n",
            "47/55 [========================>.....] - ETA: 0s - loss: 1.2272 - accuracy: 0.5106\n",
            "Epoch 58: val_loss did not improve from 1.45324\n",
            "55/55 [==============================] - 0s 6ms/step - loss: 1.2211 - accuracy: 0.5135 - val_loss: 1.5039 - val_accuracy: 0.4507\n",
            "Epoch 59/100\n",
            "53/55 [===========================>..] - ETA: 0s - loss: 1.2053 - accuracy: 0.5200\n",
            "Epoch 59: val_loss did not improve from 1.45324\n",
            "55/55 [==============================] - 0s 5ms/step - loss: 1.2083 - accuracy: 0.5175 - val_loss: 1.5022 - val_accuracy: 0.4360\n",
            "Epoch 60/100\n",
            "55/55 [==============================] - ETA: 0s - loss: 1.2226 - accuracy: 0.5117\n",
            "Epoch 60: val_loss did not improve from 1.45324\n",
            "55/55 [==============================] - 0s 5ms/step - loss: 1.2226 - accuracy: 0.5117 - val_loss: 1.5018 - val_accuracy: 0.4520\n",
            "Epoch 61/100\n",
            "50/55 [==========================>...] - ETA: 0s - loss: 1.2264 - accuracy: 0.5263\n",
            "Epoch 61: val_loss did not improve from 1.45324\n",
            "55/55 [==============================] - 0s 5ms/step - loss: 1.2295 - accuracy: 0.5192 - val_loss: 1.5556 - val_accuracy: 0.4387\n",
            "Epoch 62/100\n",
            "51/55 [==========================>...] - ETA: 0s - loss: 1.1859 - accuracy: 0.5239\n",
            "Epoch 62: val_loss did not improve from 1.45324\n",
            "55/55 [==============================] - 0s 6ms/step - loss: 1.1940 - accuracy: 0.5180 - val_loss: 1.5188 - val_accuracy: 0.4627\n",
            "Epoch 63/100\n",
            "48/55 [=========================>....] - ETA: 0s - loss: 1.2297 - accuracy: 0.5156\n",
            "Epoch 63: val_loss did not improve from 1.45324\n",
            "55/55 [==============================] - 0s 6ms/step - loss: 1.2203 - accuracy: 0.5220 - val_loss: 1.5080 - val_accuracy: 0.4480\n",
            "Epoch 64/100\n",
            "46/55 [========================>.....] - ETA: 0s - loss: 1.2084 - accuracy: 0.5075\n",
            "Epoch 64: val_loss did not improve from 1.45324\n",
            "55/55 [==============================] - 0s 6ms/step - loss: 1.2092 - accuracy: 0.5146 - val_loss: 1.5047 - val_accuracy: 0.4600\n",
            "Epoch 65/100\n",
            "53/55 [===========================>..] - ETA: 0s - loss: 1.2381 - accuracy: 0.4929\n",
            "Epoch 65: val_loss did not improve from 1.45324\n",
            "55/55 [==============================] - 0s 5ms/step - loss: 1.2384 - accuracy: 0.4940 - val_loss: 1.5252 - val_accuracy: 0.4467\n",
            "Epoch 66/100\n",
            "53/55 [===========================>..] - ETA: 0s - loss: 1.1987 - accuracy: 0.5224\n",
            "Epoch 66: val_loss did not improve from 1.45324\n",
            "55/55 [==============================] - 0s 7ms/step - loss: 1.1978 - accuracy: 0.5203 - val_loss: 1.5149 - val_accuracy: 0.4333\n",
            "Epoch 67/100\n",
            "45/55 [=======================>......] - ETA: 0s - loss: 1.1776 - accuracy: 0.5125\n",
            "Epoch 67: val_loss did not improve from 1.45324\n",
            "55/55 [==============================] - 0s 6ms/step - loss: 1.1892 - accuracy: 0.5089 - val_loss: 1.5433 - val_accuracy: 0.4360\n",
            "Epoch 68/100\n",
            "52/55 [===========================>..] - ETA: 0s - loss: 1.2250 - accuracy: 0.5186\n",
            "Epoch 68: val_loss did not improve from 1.45324\n",
            "55/55 [==============================] - 0s 6ms/step - loss: 1.2254 - accuracy: 0.5175 - val_loss: 1.5120 - val_accuracy: 0.4413\n",
            "Epoch 69/100\n",
            "48/55 [=========================>....] - ETA: 0s - loss: 1.2183 - accuracy: 0.5052\n",
            "Epoch 69: val_loss did not improve from 1.45324\n",
            "55/55 [==============================] - 0s 6ms/step - loss: 1.2221 - accuracy: 0.5077 - val_loss: 1.5204 - val_accuracy: 0.4467\n",
            "Epoch 70/100\n",
            "45/55 [=======================>......] - ETA: 0s - loss: 1.2372 - accuracy: 0.5090\n",
            "Epoch 70: val_loss did not improve from 1.45324\n",
            "55/55 [==============================] - 0s 6ms/step - loss: 1.2310 - accuracy: 0.5089 - val_loss: 1.5168 - val_accuracy: 0.4347\n",
            "Epoch 71/100\n",
            "48/55 [=========================>....] - ETA: 0s - loss: 1.2193 - accuracy: 0.5182\n",
            "Epoch 71: val_loss did not improve from 1.45324\n",
            "55/55 [==============================] - 0s 5ms/step - loss: 1.2268 - accuracy: 0.5135 - val_loss: 1.5218 - val_accuracy: 0.4427\n",
            "Epoch 72/100\n",
            "54/55 [============================>.] - ETA: 0s - loss: 1.1818 - accuracy: 0.5295\n",
            "Epoch 72: val_loss did not improve from 1.45324\n",
            "55/55 [==============================] - 0s 5ms/step - loss: 1.1840 - accuracy: 0.5278 - val_loss: 1.5343 - val_accuracy: 0.4547\n",
            "Epoch 73/100\n",
            "47/55 [========================>.....] - ETA: 0s - loss: 1.2021 - accuracy: 0.5326\n",
            "Epoch 73: val_loss did not improve from 1.45324\n",
            "55/55 [==============================] - 0s 6ms/step - loss: 1.1984 - accuracy: 0.5289 - val_loss: 1.5305 - val_accuracy: 0.4467\n",
            "Epoch 74/100\n",
            "51/55 [==========================>...] - ETA: 0s - loss: 1.1973 - accuracy: 0.5202\n",
            "Epoch 74: val_loss did not improve from 1.45324\n",
            "55/55 [==============================] - 0s 6ms/step - loss: 1.1905 - accuracy: 0.5203 - val_loss: 1.5625 - val_accuracy: 0.4427\n",
            "Epoch 75/100\n",
            "42/55 [=====================>........] - ETA: 0s - loss: 1.2185 - accuracy: 0.5104\n",
            "Epoch 75: val_loss did not improve from 1.45324\n",
            "55/55 [==============================] - 0s 5ms/step - loss: 1.2107 - accuracy: 0.5209 - val_loss: 1.5523 - val_accuracy: 0.4373\n",
            "Epoch 76/100\n",
            "52/55 [===========================>..] - ETA: 0s - loss: 1.1970 - accuracy: 0.5306\n",
            "Epoch 76: val_loss did not improve from 1.45324\n",
            "55/55 [==============================] - 0s 5ms/step - loss: 1.1940 - accuracy: 0.5306 - val_loss: 1.5374 - val_accuracy: 0.4547\n",
            "Epoch 77/100\n",
            "47/55 [========================>.....] - ETA: 0s - loss: 1.2172 - accuracy: 0.5086\n",
            "Epoch 77: val_loss did not improve from 1.45324\n",
            "55/55 [==============================] - 0s 5ms/step - loss: 1.1970 - accuracy: 0.5163 - val_loss: 1.5538 - val_accuracy: 0.4413\n",
            "Epoch 78/100\n",
            "43/55 [======================>.......] - ETA: 0s - loss: 1.1985 - accuracy: 0.5211\n",
            "Epoch 78: val_loss did not improve from 1.45324\n",
            "55/55 [==============================] - 0s 5ms/step - loss: 1.2031 - accuracy: 0.5266 - val_loss: 1.5507 - val_accuracy: 0.4227\n",
            "Epoch 79/100\n",
            "44/55 [=======================>......] - ETA: 0s - loss: 1.1931 - accuracy: 0.5227\n",
            "Epoch 79: val_loss did not improve from 1.45324\n",
            "55/55 [==============================] - 0s 5ms/step - loss: 1.1897 - accuracy: 0.5220 - val_loss: 1.5611 - val_accuracy: 0.4427\n",
            "Epoch 80/100\n",
            "51/55 [==========================>...] - ETA: 0s - loss: 1.2075 - accuracy: 0.5300\n",
            "Epoch 80: val_loss did not improve from 1.45324\n",
            "55/55 [==============================] - 0s 6ms/step - loss: 1.2132 - accuracy: 0.5260 - val_loss: 1.5129 - val_accuracy: 0.4600\n",
            "Epoch 81/100\n",
            "50/55 [==========================>...] - ETA: 0s - loss: 1.1961 - accuracy: 0.5238\n",
            "Epoch 81: val_loss did not improve from 1.45324\n",
            "55/55 [==============================] - 0s 6ms/step - loss: 1.1973 - accuracy: 0.5266 - val_loss: 1.5300 - val_accuracy: 0.4453\n",
            "Epoch 82/100\n",
            "46/55 [========================>.....] - ETA: 0s - loss: 1.1688 - accuracy: 0.5326\n",
            "Epoch 82: val_loss did not improve from 1.45324\n",
            "55/55 [==============================] - 0s 6ms/step - loss: 1.1880 - accuracy: 0.5260 - val_loss: 1.5232 - val_accuracy: 0.4440\n",
            "Epoch 83/100\n",
            "49/55 [=========================>....] - ETA: 0s - loss: 1.1999 - accuracy: 0.5140\n",
            "Epoch 83: val_loss did not improve from 1.45324\n",
            "55/55 [==============================] - 0s 6ms/step - loss: 1.2136 - accuracy: 0.5135 - val_loss: 1.5339 - val_accuracy: 0.4307\n",
            "Epoch 84/100\n",
            "51/55 [==========================>...] - ETA: 0s - loss: 1.2254 - accuracy: 0.5043\n",
            "Epoch 84: val_loss did not improve from 1.45324\n",
            "55/55 [==============================] - 0s 6ms/step - loss: 1.2194 - accuracy: 0.5049 - val_loss: 1.5210 - val_accuracy: 0.4400\n",
            "Epoch 85/100\n",
            "46/55 [========================>.....] - ETA: 0s - loss: 1.2173 - accuracy: 0.5122\n",
            "Epoch 85: val_loss did not improve from 1.45324\n",
            "55/55 [==============================] - 0s 6ms/step - loss: 1.2192 - accuracy: 0.5112 - val_loss: 1.4986 - val_accuracy: 0.4453\n",
            "Epoch 86/100\n",
            "51/55 [==========================>...] - ETA: 0s - loss: 1.1944 - accuracy: 0.5251\n",
            "Epoch 86: val_loss did not improve from 1.45324\n",
            "55/55 [==============================] - 0s 6ms/step - loss: 1.2027 - accuracy: 0.5209 - val_loss: 1.5205 - val_accuracy: 0.4453\n",
            "Epoch 87/100\n",
            "55/55 [==============================] - ETA: 0s - loss: 1.2340 - accuracy: 0.5077\n",
            "Epoch 87: val_loss did not improve from 1.45324\n",
            "55/55 [==============================] - 0s 6ms/step - loss: 1.2340 - accuracy: 0.5077 - val_loss: 1.5004 - val_accuracy: 0.4520\n",
            "Epoch 88/100\n",
            "54/55 [============================>.] - ETA: 0s - loss: 1.1816 - accuracy: 0.5174\n",
            "Epoch 88: val_loss did not improve from 1.45324\n",
            "55/55 [==============================] - 0s 5ms/step - loss: 1.1837 - accuracy: 0.5163 - val_loss: 1.5036 - val_accuracy: 0.4560\n",
            "Epoch 89/100\n",
            "46/55 [========================>.....] - ETA: 0s - loss: 1.1917 - accuracy: 0.5346\n",
            "Epoch 89: val_loss did not improve from 1.45324\n",
            "55/55 [==============================] - 0s 5ms/step - loss: 1.1959 - accuracy: 0.5301 - val_loss: 1.4997 - val_accuracy: 0.4560\n",
            "Epoch 90/100\n",
            "45/55 [=======================>......] - ETA: 0s - loss: 1.1857 - accuracy: 0.5285\n",
            "Epoch 90: val_loss did not improve from 1.45324\n",
            "55/55 [==============================] - 0s 5ms/step - loss: 1.1934 - accuracy: 0.5260 - val_loss: 1.5330 - val_accuracy: 0.4307\n",
            "Epoch 91/100\n",
            "45/55 [=======================>......] - ETA: 0s - loss: 1.1801 - accuracy: 0.5299\n",
            "Epoch 91: val_loss did not improve from 1.45324\n",
            "55/55 [==============================] - 0s 4ms/step - loss: 1.1908 - accuracy: 0.5306 - val_loss: 1.5402 - val_accuracy: 0.4480\n",
            "Epoch 92/100\n",
            "54/55 [============================>.] - ETA: 0s - loss: 1.2082 - accuracy: 0.5330\n",
            "Epoch 92: val_loss did not improve from 1.45324\n",
            "55/55 [==============================] - 0s 6ms/step - loss: 1.2091 - accuracy: 0.5329 - val_loss: 1.4654 - val_accuracy: 0.4627\n",
            "Epoch 93/100\n",
            "55/55 [==============================] - ETA: 0s - loss: 1.2045 - accuracy: 0.5192\n",
            "Epoch 93: val_loss did not improve from 1.45324\n",
            "55/55 [==============================] - 0s 5ms/step - loss: 1.2045 - accuracy: 0.5192 - val_loss: 1.4960 - val_accuracy: 0.4600\n",
            "Epoch 94/100\n",
            "47/55 [========================>.....] - ETA: 0s - loss: 1.2149 - accuracy: 0.5080\n",
            "Epoch 94: val_loss did not improve from 1.45324\n",
            "55/55 [==============================] - 0s 5ms/step - loss: 1.2037 - accuracy: 0.5112 - val_loss: 1.5161 - val_accuracy: 0.4533\n",
            "Epoch 95/100\n",
            "43/55 [======================>.......] - ETA: 0s - loss: 1.1844 - accuracy: 0.5283\n",
            "Epoch 95: val_loss did not improve from 1.45324\n",
            "55/55 [==============================] - 0s 6ms/step - loss: 1.1855 - accuracy: 0.5260 - val_loss: 1.5425 - val_accuracy: 0.4307\n",
            "Epoch 96/100\n",
            "51/55 [==========================>...] - ETA: 0s - loss: 1.2232 - accuracy: 0.5227\n",
            "Epoch 96: val_loss did not improve from 1.45324\n",
            "55/55 [==============================] - 0s 6ms/step - loss: 1.2297 - accuracy: 0.5180 - val_loss: 1.5219 - val_accuracy: 0.4613\n",
            "Epoch 97/100\n",
            "53/55 [===========================>..] - ETA: 0s - loss: 1.2060 - accuracy: 0.5165\n",
            "Epoch 97: val_loss did not improve from 1.45324\n",
            "55/55 [==============================] - 0s 6ms/step - loss: 1.2019 - accuracy: 0.5197 - val_loss: 1.5093 - val_accuracy: 0.4453\n",
            "Epoch 98/100\n",
            "54/55 [============================>.] - ETA: 0s - loss: 1.1906 - accuracy: 0.5214\n",
            "Epoch 98: val_loss did not improve from 1.45324\n",
            "55/55 [==============================] - 0s 5ms/step - loss: 1.1909 - accuracy: 0.5220 - val_loss: 1.5539 - val_accuracy: 0.4387\n",
            "Epoch 99/100\n",
            "42/55 [=====================>........] - ETA: 0s - loss: 1.1867 - accuracy: 0.5231\n",
            "Epoch 99: val_loss did not improve from 1.45324\n",
            "55/55 [==============================] - 0s 5ms/step - loss: 1.2111 - accuracy: 0.5163 - val_loss: 1.5148 - val_accuracy: 0.4627\n",
            "Epoch 100/100\n",
            "43/55 [======================>.......] - ETA: 0s - loss: 1.1993 - accuracy: 0.5211\n",
            "Epoch 100: val_loss did not improve from 1.45324\n",
            "55/55 [==============================] - 0s 5ms/step - loss: 1.2162 - accuracy: 0.5186 - val_loss: 1.5319 - val_accuracy: 0.4453\n"
          ]
        }
      ]
    },
    {
      "cell_type": "code",
      "source": [
        "test_accuracy = model.evaluate(X_val,y_val,verbose=0)\n",
        "print(test_accuracy[1])"
      ],
      "metadata": {
        "colab": {
          "base_uri": "https://localhost:8080/"
        },
        "id": "RB9K6YDUSZeu",
        "outputId": "d40d47e5-6788-40eb-af56-2f4af574746f"
      },
      "execution_count": null,
      "outputs": [
        {
          "output_type": "stream",
          "name": "stdout",
          "text": [
            "0.445333331823349\n"
          ]
        }
      ]
    },
    {
      "cell_type": "markdown",
      "source": [
        "# **Summary**\n",
        "The observations shows that there is a lot of disturbance in the audio segments that makes it hard to classify them to a particular area. A better recording environment and a device are crucial for these type of classifications. \n",
        "\n",
        "We need a better preprocessing techniques for reducing the noise in the signal. This might help in improving the performance of the model.\n",
        "\n",
        "Some audios are really confusing. Consider the previous basic component where we classified audio segments as indoor and outdoor. Ther are many indoors where we could hear the sounds of vehicles. Similarly there are many outdoors which are so quite so be classified as outdoor audio segments. \n",
        "\n",
        "When working with the advanced part we see that the neural network fails to classify the audio segments accordingly. The reason may be because of insufficient dataset. By increasing the sample size we could really improve the performance of the model to greater extent.\n"
      ],
      "metadata": {
        "id": "fn4D4qrgbQxD"
      }
    }
  ]
}